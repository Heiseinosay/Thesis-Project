{
 "cells": [
  {
   "cell_type": "code",
   "execution_count": 1,
   "id": "4b8deeaa-67ba-483b-899b-d397e270b5b3",
   "metadata": {
    "scrolled": true
   },
   "outputs": [
    {
     "name": "stdout",
     "output_type": "stream",
     "text": [
      "Package                      Version\n",
      "---------------------------- --------------\n",
      "absl-py                      2.1.0\n",
      "aiohappyeyeballs             2.4.3\n",
      "aiohttp                      3.10.8\n",
      "aiosignal                    1.3.1\n",
      "anyio                        4.4.0\n",
      "argon2-cffi                  23.1.0\n",
      "argon2-cffi-bindings         21.2.0\n",
      "arrow                        1.3.0\n",
      "asttokens                    2.4.1\n",
      "astunparse                   1.6.3\n",
      "async-lru                    2.0.4\n",
      "attrs                        23.2.0\n",
      "audioread                    3.0.1\n",
      "Babel                        2.15.0\n",
      "beautifulsoup4               4.12.3\n",
      "bleach                       6.1.0\n",
      "certifi                      2024.7.4\n",
      "cffi                         1.16.0\n",
      "charset-normalizer           3.3.2\n",
      "colorama                     0.4.6\n",
      "comm                         0.2.2\n",
      "contourpy                    1.2.1\n",
      "cycler                       0.12.1\n",
      "datasets                     3.0.1\n",
      "debugpy                      1.8.2\n",
      "decorator                    5.1.1\n",
      "defusedxml                   0.7.1\n",
      "dill                         0.3.8\n",
      "executing                    2.0.1\n",
      "fastjsonschema               2.20.0\n",
      "filelock                     3.16.1\n",
      "flatbuffers                  24.3.25\n",
      "fonttools                    4.53.1\n",
      "fqdn                         1.5.1\n",
      "frozenlist                   1.4.1\n",
      "fsspec                       2024.6.1\n",
      "gast                         0.6.0\n",
      "google-pasta                 0.2.0\n",
      "grpcio                       1.65.4\n",
      "h11                          0.14.0\n",
      "h5py                         3.11.0\n",
      "httpcore                     1.0.5\n",
      "httpx                        0.27.0\n",
      "huggingface-hub              0.25.1\n",
      "idna                         3.7\n",
      "ipykernel                    6.29.5\n",
      "ipython                      8.26.0\n",
      "ipywidgets                   8.1.3\n",
      "isoduration                  20.11.0\n",
      "jedi                         0.19.1\n",
      "Jinja2                       3.1.4\n",
      "joblib                       1.4.2\n",
      "json5                        0.9.25\n",
      "jsonpointer                  3.0.0\n",
      "jsonschema                   4.23.0\n",
      "jsonschema-specifications    2023.12.1\n",
      "jupyter                      1.0.0\n",
      "jupyter_client               8.6.2\n",
      "jupyter-console              6.6.3\n",
      "jupyter_core                 5.7.2\n",
      "jupyter-events               0.10.0\n",
      "jupyter-lsp                  2.2.5\n",
      "jupyter_server               2.14.2\n",
      "jupyter_server_terminals     0.5.3\n",
      "jupyterlab                   4.2.4\n",
      "jupyterlab_pygments          0.3.0\n",
      "jupyterlab_server            2.27.3\n",
      "jupyterlab_widgets           3.0.11\n",
      "keras                        3.4.1\n",
      "kiwisolver                   1.4.5\n",
      "lazy_loader                  0.4\n",
      "libclang                     18.1.1\n",
      "librosa                      0.10.2.post1\n",
      "llvmlite                     0.43.0\n",
      "Markdown                     3.6\n",
      "markdown-it-py               3.0.0\n",
      "MarkupSafe                   2.1.5\n",
      "matplotlib                   3.9.1\n",
      "matplotlib-inline            0.1.7\n",
      "mdurl                        0.1.2\n",
      "mistune                      3.0.2\n",
      "ml-dtypes                    0.4.0\n",
      "msgpack                      1.0.8\n",
      "multidict                    6.1.0\n",
      "multiprocess                 0.70.16\n",
      "namex                        0.0.8\n",
      "nbclient                     0.10.0\n",
      "nbconvert                    7.16.4\n",
      "nbformat                     5.10.4\n",
      "nest-asyncio                 1.6.0\n",
      "notebook                     7.2.1\n",
      "notebook_shim                0.2.4\n",
      "numba                        0.60.0\n",
      "numpy                        1.26.4\n",
      "opt-einsum                   3.3.0\n",
      "optree                       0.12.1\n",
      "overrides                    7.7.0\n",
      "packaging                    24.1\n",
      "pandas                       2.2.2\n",
      "pandocfilters                1.5.1\n",
      "parso                        0.8.4\n",
      "pillow                       10.4.0\n",
      "pip                          22.3.1\n",
      "platformdirs                 4.2.2\n",
      "pooch                        1.8.2\n",
      "prometheus_client            0.20.0\n",
      "prompt_toolkit               3.0.47\n",
      "protobuf                     4.25.4\n",
      "psutil                       6.0.0\n",
      "pure_eval                    0.2.3\n",
      "pyarrow                      17.0.0\n",
      "pycparser                    2.22\n",
      "Pygments                     2.18.0\n",
      "pyparsing                    3.1.2\n",
      "python-dateutil              2.9.0.post0\n",
      "python-json-logger           2.0.7\n",
      "pytz                         2024.1\n",
      "pywin32                      306\n",
      "pywinpty                     2.0.13\n",
      "PyYAML                       6.0.1\n",
      "pyzmq                        26.0.3\n",
      "qtconsole                    5.5.2\n",
      "QtPy                         2.4.1\n",
      "referencing                  0.35.1\n",
      "requests                     2.32.3\n",
      "resampy                      0.4.3\n",
      "rfc3339-validator            0.1.4\n",
      "rfc3986-validator            0.1.1\n",
      "rich                         13.7.1\n",
      "rpds-py                      0.19.1\n",
      "scikit-learn                 1.5.1\n",
      "scipy                        1.14.0\n",
      "Send2Trash                   1.8.3\n",
      "setuptools                   65.5.0\n",
      "six                          1.16.0\n",
      "sniffio                      1.3.1\n",
      "soundfile                    0.12.1\n",
      "soupsieve                    2.5\n",
      "soxr                         0.4.0\n",
      "stack-data                   0.6.3\n",
      "tensorboard                  2.17.0\n",
      "tensorboard-data-server      0.7.2\n",
      "tensorflow                   2.17.0\n",
      "tensorflow-intel             2.17.0\n",
      "tensorflow-io-gcs-filesystem 0.31.0\n",
      "termcolor                    2.4.0\n",
      "terminado                    0.18.1\n",
      "threadpoolctl                3.5.0\n",
      "tinycss2                     1.3.0\n",
      "tornado                      6.4.1\n",
      "tqdm                         4.66.5\n",
      "traitlets                    5.14.3\n",
      "types-python-dateutil        2.9.0.20240316\n",
      "typing_extensions            4.12.2\n",
      "tzdata                       2024.1\n",
      "uri-template                 1.3.0\n",
      "urllib3                      2.2.2\n",
      "wcwidth                      0.2.13\n",
      "webcolors                    24.6.0\n",
      "webencodings                 0.5.1\n",
      "websocket-client             1.8.0\n",
      "Werkzeug                     3.0.3\n",
      "wheel                        0.43.0\n",
      "widgetsnbextension           4.0.11\n",
      "wrapt                        1.16.0\n",
      "xxhash                       3.5.0\n",
      "yarl                         1.13.1\n",
      "Note: you may need to restart the kernel to use updated packages.\n"
     ]
    },
    {
     "name": "stderr",
     "output_type": "stream",
     "text": [
      "\n",
      "[notice] A new release of pip available: 22.3.1 -> 24.2\n",
      "[notice] To update, run: python.exe -m pip install --upgrade pip\n"
     ]
    }
   ],
   "source": [
    "pip list"
   ]
  },
  {
   "cell_type": "markdown",
   "id": "dd2df51d-2fa5-4f93-9ad5-fe1c21e39842",
   "metadata": {},
   "source": [
    "# 1. Define Imports"
   ]
  },
  {
   "cell_type": "code",
   "execution_count": 1,
   "id": "8b3bbdc8-d1ae-4941-8e53-889e0f45bec2",
   "metadata": {},
   "outputs": [],
   "source": [
    "import pandas as pd\n",
    "import numpy as np\n",
    "from sklearn.model_selection import train_test_split\n",
    "from sklearn.preprocessing import StandardScaler\n",
    "import joblib"
   ]
  },
  {
   "cell_type": "markdown",
   "id": "b88cf2cf-b4f5-4c40-9b03-78e66ebb7823",
   "metadata": {},
   "source": [
    "# 2. Load Data"
   ]
  },
  {
   "cell_type": "code",
   "execution_count": 21,
   "id": "8695fb7a-1442-42c0-9aa0-58b286995de7",
   "metadata": {},
   "outputs": [],
   "source": [
    "human_df1 = pd.read_csv('result\\deepfake_detection\\Dataset\\Human_full_official.csv')\n",
    "human_df2 = pd.read_csv('result\\deepfake_detection\\Dataset\\Human_full_cv_filo.csv')\n",
    "human_df3 = pd.read_csv('result\\deepfake_detection\\Dataset\\Human_full_cv_otheraccent.csv')\n",
    "human_df4 = pd.read_csv('result\\deepfake_detection\\Dataset\\Human_full_speechaccentarchive_filo.csv')\n",
    "synthetic_df1 = pd.read_csv('result\\deepfake_detection\\Dataset\\Synthetic_full_for.csv')\n",
    "synthetic_df2 = pd.read_csv('result\\deepfake_detection\\Dataset\\Synthetic_full_hf_birgermoell.csv')\n",
    "synthetic_df3 = pd.read_csv('result\\deepfake_detection\\Dataset\\Synthetic_full_hf_saahith.csv')\n",
    "synthetic_df4 = pd.read_csv('result\\deepfake_detection\\Dataset\\Synthetic_full_speechify.csv')"
   ]
  },
  {
   "cell_type": "code",
   "execution_count": 22,
   "id": "7256fbb0-1aea-4c5f-aaf3-aa3c7e56f8a3",
   "metadata": {},
   "outputs": [],
   "source": [
    "sum_of_all = human_df1.shape[0] + human_df2.shape[0] + human_df3.shape[0] + human_df4.shape[0] + synthetic_df1.shape[0] + synthetic_df2.shape[0] + synthetic_df3.shape[0] + synthetic_df4.shape[0]"
   ]
  },
  {
   "cell_type": "code",
   "execution_count": 25,
   "id": "9f4c1a6d-de43-4fb1-a6fc-4962ba83d958",
   "metadata": {},
   "outputs": [
    {
     "data": {
      "text/plain": [
       "21991"
      ]
     },
     "execution_count": 25,
     "metadata": {},
     "output_type": "execute_result"
    }
   ],
   "source": [
    "sum_of_all"
   ]
  },
  {
   "cell_type": "markdown",
   "id": "9c82a271-5943-46f3-aeae-08df3e8c74c5",
   "metadata": {},
   "source": [
    "# 3. Label Data"
   ]
  },
  {
   "cell_type": "code",
   "execution_count": 26,
   "id": "899da091-de7a-410e-b02a-b29f1e2fa2e5",
   "metadata": {},
   "outputs": [],
   "source": [
    "human_df1['label'] = 1\n",
    "human_df2['label'] = 1\n",
    "human_df3['label'] = 1\n",
    "human_df4['label'] = 1\n",
    "synthetic_df1['label'] = 0\n",
    "synthetic_df2['label'] = 0\n",
    "synthetic_df3['label'] = 0\n",
    "synthetic_df4['label'] = 0"
   ]
  },
  {
   "cell_type": "code",
   "execution_count": 27,
   "id": "38693021-3d7d-4167-9d79-01ea53f01d2d",
   "metadata": {},
   "outputs": [],
   "source": [
    "# Combine the data\n",
    "# Reduce to 6 decimals and round up\n",
    "# Uses Scientific notation to move decimal point\n",
    "data_df = pd.concat([human_df1, human_df2, human_df3, human_df4, synthetic_df1, synthetic_df2, synthetic_df3, synthetic_df4], ignore_index=True)"
   ]
  },
  {
   "cell_type": "code",
   "execution_count": 28,
   "id": "027cb64d-0140-4ef0-af5f-0ed73f0e3ea9",
   "metadata": {},
   "outputs": [
    {
     "data": {
      "text/html": [
       "<div>\n",
       "<style scoped>\n",
       "    .dataframe tbody tr th:only-of-type {\n",
       "        vertical-align: middle;\n",
       "    }\n",
       "\n",
       "    .dataframe tbody tr th {\n",
       "        vertical-align: top;\n",
       "    }\n",
       "\n",
       "    .dataframe thead th {\n",
       "        text-align: right;\n",
       "    }\n",
       "</style>\n",
       "<table border=\"1\" class=\"dataframe\">\n",
       "  <thead>\n",
       "    <tr style=\"text-align: right;\">\n",
       "      <th></th>\n",
       "      <th>file_name</th>\n",
       "      <th>mfcc_feature1</th>\n",
       "      <th>mfcc_feature2</th>\n",
       "      <th>mfcc_feature3</th>\n",
       "      <th>mfcc_feature4</th>\n",
       "      <th>mfcc_feature5</th>\n",
       "      <th>mfcc_feature6</th>\n",
       "      <th>mfcc_feature7</th>\n",
       "      <th>mfcc_feature8</th>\n",
       "      <th>mfcc_feature9</th>\n",
       "      <th>...</th>\n",
       "      <th>SpectralBandwidth79</th>\n",
       "      <th>SpectralBandwidth80</th>\n",
       "      <th>SpectralBandwidth81</th>\n",
       "      <th>SpectralBandwidth82</th>\n",
       "      <th>SpectralBandwidth83</th>\n",
       "      <th>SpectralBandwidth84</th>\n",
       "      <th>SpectralBandwidth85</th>\n",
       "      <th>SpectralBandwidth86</th>\n",
       "      <th>SpectralBandwidth87</th>\n",
       "      <th>label</th>\n",
       "    </tr>\n",
       "  </thead>\n",
       "  <tbody>\n",
       "    <tr>\n",
       "      <th>0</th>\n",
       "      <td>file1000.wav_16k.wav_norm.wav_mono.wav_silence...</td>\n",
       "      <td>-299.66968</td>\n",
       "      <td>101.736070</td>\n",
       "      <td>-15.227774</td>\n",
       "      <td>38.208400</td>\n",
       "      <td>-58.204530</td>\n",
       "      <td>-0.301568</td>\n",
       "      <td>-24.468779</td>\n",
       "      <td>-8.412854</td>\n",
       "      <td>-25.684647</td>\n",
       "      <td>...</td>\n",
       "      <td>1970.620506</td>\n",
       "      <td>2004.635337</td>\n",
       "      <td>1927.754786</td>\n",
       "      <td>1894.166704</td>\n",
       "      <td>1863.732656</td>\n",
       "      <td>1901.059655</td>\n",
       "      <td>1909.425295</td>\n",
       "      <td>1894.791286</td>\n",
       "      <td>2072.903706</td>\n",
       "      <td>1</td>\n",
       "    </tr>\n",
       "    <tr>\n",
       "      <th>1</th>\n",
       "      <td>file10003.wav_16k.wav_norm.wav_mono.wav_silenc...</td>\n",
       "      <td>-196.79791</td>\n",
       "      <td>143.789060</td>\n",
       "      <td>-29.306421</td>\n",
       "      <td>73.829100</td>\n",
       "      <td>26.663227</td>\n",
       "      <td>5.764907</td>\n",
       "      <td>-6.642285</td>\n",
       "      <td>5.408102</td>\n",
       "      <td>-20.332932</td>\n",
       "      <td>...</td>\n",
       "      <td>708.888848</td>\n",
       "      <td>644.192354</td>\n",
       "      <td>753.837025</td>\n",
       "      <td>1046.867774</td>\n",
       "      <td>1244.309927</td>\n",
       "      <td>1300.858221</td>\n",
       "      <td>1287.754754</td>\n",
       "      <td>1553.103221</td>\n",
       "      <td>2175.267948</td>\n",
       "      <td>1</td>\n",
       "    </tr>\n",
       "    <tr>\n",
       "      <th>2</th>\n",
       "      <td>file10006.wav_16k.wav_norm.wav_mono.wav_silenc...</td>\n",
       "      <td>-232.75458</td>\n",
       "      <td>69.208786</td>\n",
       "      <td>-29.829388</td>\n",
       "      <td>54.840225</td>\n",
       "      <td>-50.897865</td>\n",
       "      <td>-10.313019</td>\n",
       "      <td>-34.953670</td>\n",
       "      <td>-24.594387</td>\n",
       "      <td>-24.280138</td>\n",
       "      <td>...</td>\n",
       "      <td>1739.275449</td>\n",
       "      <td>1582.944508</td>\n",
       "      <td>1526.668533</td>\n",
       "      <td>1517.488735</td>\n",
       "      <td>1630.725978</td>\n",
       "      <td>1549.763961</td>\n",
       "      <td>1315.840705</td>\n",
       "      <td>1240.254891</td>\n",
       "      <td>1636.078149</td>\n",
       "      <td>1</td>\n",
       "    </tr>\n",
       "    <tr>\n",
       "      <th>3</th>\n",
       "      <td>file10009.wav_16k.wav_norm.wav_mono.wav_silenc...</td>\n",
       "      <td>-244.16455</td>\n",
       "      <td>84.581550</td>\n",
       "      <td>-38.321800</td>\n",
       "      <td>53.428930</td>\n",
       "      <td>-45.479324</td>\n",
       "      <td>9.575534</td>\n",
       "      <td>-45.549686</td>\n",
       "      <td>-13.230258</td>\n",
       "      <td>-24.002167</td>\n",
       "      <td>...</td>\n",
       "      <td>1887.760270</td>\n",
       "      <td>1207.519785</td>\n",
       "      <td>1265.807252</td>\n",
       "      <td>1167.297109</td>\n",
       "      <td>1137.648886</td>\n",
       "      <td>1111.254205</td>\n",
       "      <td>1034.212832</td>\n",
       "      <td>1923.477217</td>\n",
       "      <td>2206.757664</td>\n",
       "      <td>1</td>\n",
       "    </tr>\n",
       "    <tr>\n",
       "      <th>4</th>\n",
       "      <td>file10010.wav_16k.wav_norm.wav_mono.wav_silenc...</td>\n",
       "      <td>-216.45510</td>\n",
       "      <td>138.710740</td>\n",
       "      <td>-66.182780</td>\n",
       "      <td>46.536243</td>\n",
       "      <td>5.696756</td>\n",
       "      <td>10.536344</td>\n",
       "      <td>-26.130598</td>\n",
       "      <td>18.065714</td>\n",
       "      <td>-18.729813</td>\n",
       "      <td>...</td>\n",
       "      <td>1501.761991</td>\n",
       "      <td>1510.786506</td>\n",
       "      <td>1134.740526</td>\n",
       "      <td>991.162096</td>\n",
       "      <td>1534.701064</td>\n",
       "      <td>1723.189166</td>\n",
       "      <td>1620.427776</td>\n",
       "      <td>1554.435826</td>\n",
       "      <td>1803.725417</td>\n",
       "      <td>1</td>\n",
       "    </tr>\n",
       "    <tr>\n",
       "      <th>...</th>\n",
       "      <td>...</td>\n",
       "      <td>...</td>\n",
       "      <td>...</td>\n",
       "      <td>...</td>\n",
       "      <td>...</td>\n",
       "      <td>...</td>\n",
       "      <td>...</td>\n",
       "      <td>...</td>\n",
       "      <td>...</td>\n",
       "      <td>...</td>\n",
       "      <td>...</td>\n",
       "      <td>...</td>\n",
       "      <td>...</td>\n",
       "      <td>...</td>\n",
       "      <td>...</td>\n",
       "      <td>...</td>\n",
       "      <td>...</td>\n",
       "      <td>...</td>\n",
       "      <td>...</td>\n",
       "      <td>...</td>\n",
       "      <td>...</td>\n",
       "    </tr>\n",
       "    <tr>\n",
       "      <th>21986</th>\n",
       "      <td>yidish3_cloned.mp3</td>\n",
       "      <td>-192.08441</td>\n",
       "      <td>180.702770</td>\n",
       "      <td>-39.233856</td>\n",
       "      <td>29.107517</td>\n",
       "      <td>-10.782089</td>\n",
       "      <td>6.935432</td>\n",
       "      <td>-20.050997</td>\n",
       "      <td>1.524773</td>\n",
       "      <td>-10.203787</td>\n",
       "      <td>...</td>\n",
       "      <td>2084.711215</td>\n",
       "      <td>2218.145406</td>\n",
       "      <td>2157.267313</td>\n",
       "      <td>2166.212626</td>\n",
       "      <td>1649.049937</td>\n",
       "      <td>991.523695</td>\n",
       "      <td>931.798712</td>\n",
       "      <td>975.935566</td>\n",
       "      <td>1353.513057</td>\n",
       "      <td>0</td>\n",
       "    </tr>\n",
       "    <tr>\n",
       "      <th>21987</th>\n",
       "      <td>yidish3_cloned.mp3</td>\n",
       "      <td>-190.27630</td>\n",
       "      <td>174.448930</td>\n",
       "      <td>-47.435276</td>\n",
       "      <td>33.031820</td>\n",
       "      <td>-5.640531</td>\n",
       "      <td>6.414923</td>\n",
       "      <td>-22.677649</td>\n",
       "      <td>5.439908</td>\n",
       "      <td>-20.700430</td>\n",
       "      <td>...</td>\n",
       "      <td>1146.273343</td>\n",
       "      <td>883.956489</td>\n",
       "      <td>855.778082</td>\n",
       "      <td>864.090371</td>\n",
       "      <td>845.814130</td>\n",
       "      <td>843.586802</td>\n",
       "      <td>757.890026</td>\n",
       "      <td>728.871154</td>\n",
       "      <td>1030.958997</td>\n",
       "      <td>0</td>\n",
       "    </tr>\n",
       "    <tr>\n",
       "      <th>21988</th>\n",
       "      <td>yidish3_cloned.mp3</td>\n",
       "      <td>-183.63203</td>\n",
       "      <td>154.137480</td>\n",
       "      <td>-39.215477</td>\n",
       "      <td>35.487606</td>\n",
       "      <td>-8.277824</td>\n",
       "      <td>13.314815</td>\n",
       "      <td>-19.056389</td>\n",
       "      <td>3.167639</td>\n",
       "      <td>-22.196514</td>\n",
       "      <td>...</td>\n",
       "      <td>867.073985</td>\n",
       "      <td>876.429525</td>\n",
       "      <td>1037.102964</td>\n",
       "      <td>1562.081322</td>\n",
       "      <td>2248.396355</td>\n",
       "      <td>1098.043179</td>\n",
       "      <td>913.536618</td>\n",
       "      <td>822.091438</td>\n",
       "      <td>1395.147528</td>\n",
       "      <td>0</td>\n",
       "    </tr>\n",
       "    <tr>\n",
       "      <th>21989</th>\n",
       "      <td>yidish3_cloned.mp3</td>\n",
       "      <td>-176.59412</td>\n",
       "      <td>164.460950</td>\n",
       "      <td>-48.430332</td>\n",
       "      <td>27.375000</td>\n",
       "      <td>-3.970310</td>\n",
       "      <td>11.597551</td>\n",
       "      <td>-24.349867</td>\n",
       "      <td>5.051053</td>\n",
       "      <td>-25.205500</td>\n",
       "      <td>...</td>\n",
       "      <td>809.413315</td>\n",
       "      <td>915.934247</td>\n",
       "      <td>1049.698206</td>\n",
       "      <td>1330.326170</td>\n",
       "      <td>1900.764900</td>\n",
       "      <td>2242.214177</td>\n",
       "      <td>2034.251976</td>\n",
       "      <td>1979.707348</td>\n",
       "      <td>2286.988376</td>\n",
       "      <td>0</td>\n",
       "    </tr>\n",
       "    <tr>\n",
       "      <th>21990</th>\n",
       "      <td>yidish3_cloned.mp3</td>\n",
       "      <td>-203.35560</td>\n",
       "      <td>161.605330</td>\n",
       "      <td>-38.187805</td>\n",
       "      <td>31.774755</td>\n",
       "      <td>-14.598130</td>\n",
       "      <td>13.666182</td>\n",
       "      <td>-20.057747</td>\n",
       "      <td>2.604275</td>\n",
       "      <td>-22.221315</td>\n",
       "      <td>...</td>\n",
       "      <td>2612.326237</td>\n",
       "      <td>2489.724002</td>\n",
       "      <td>2316.675266</td>\n",
       "      <td>1688.830053</td>\n",
       "      <td>1079.347621</td>\n",
       "      <td>955.402461</td>\n",
       "      <td>941.608726</td>\n",
       "      <td>989.231257</td>\n",
       "      <td>1698.958244</td>\n",
       "      <td>0</td>\n",
       "    </tr>\n",
       "  </tbody>\n",
       "</table>\n",
       "<p>21991 rows × 389 columns</p>\n",
       "</div>"
      ],
      "text/plain": [
       "                                               file_name  mfcc_feature1  \\\n",
       "0      file1000.wav_16k.wav_norm.wav_mono.wav_silence...     -299.66968   \n",
       "1      file10003.wav_16k.wav_norm.wav_mono.wav_silenc...     -196.79791   \n",
       "2      file10006.wav_16k.wav_norm.wav_mono.wav_silenc...     -232.75458   \n",
       "3      file10009.wav_16k.wav_norm.wav_mono.wav_silenc...     -244.16455   \n",
       "4      file10010.wav_16k.wav_norm.wav_mono.wav_silenc...     -216.45510   \n",
       "...                                                  ...            ...   \n",
       "21986                                 yidish3_cloned.mp3     -192.08441   \n",
       "21987                                 yidish3_cloned.mp3     -190.27630   \n",
       "21988                                 yidish3_cloned.mp3     -183.63203   \n",
       "21989                                 yidish3_cloned.mp3     -176.59412   \n",
       "21990                                 yidish3_cloned.mp3     -203.35560   \n",
       "\n",
       "       mfcc_feature2  mfcc_feature3  mfcc_feature4  mfcc_feature5  \\\n",
       "0         101.736070     -15.227774      38.208400     -58.204530   \n",
       "1         143.789060     -29.306421      73.829100      26.663227   \n",
       "2          69.208786     -29.829388      54.840225     -50.897865   \n",
       "3          84.581550     -38.321800      53.428930     -45.479324   \n",
       "4         138.710740     -66.182780      46.536243       5.696756   \n",
       "...              ...            ...            ...            ...   \n",
       "21986     180.702770     -39.233856      29.107517     -10.782089   \n",
       "21987     174.448930     -47.435276      33.031820      -5.640531   \n",
       "21988     154.137480     -39.215477      35.487606      -8.277824   \n",
       "21989     164.460950     -48.430332      27.375000      -3.970310   \n",
       "21990     161.605330     -38.187805      31.774755     -14.598130   \n",
       "\n",
       "       mfcc_feature6  mfcc_feature7  mfcc_feature8  mfcc_feature9  ...  \\\n",
       "0          -0.301568     -24.468779      -8.412854     -25.684647  ...   \n",
       "1           5.764907      -6.642285       5.408102     -20.332932  ...   \n",
       "2         -10.313019     -34.953670     -24.594387     -24.280138  ...   \n",
       "3           9.575534     -45.549686     -13.230258     -24.002167  ...   \n",
       "4          10.536344     -26.130598      18.065714     -18.729813  ...   \n",
       "...              ...            ...            ...            ...  ...   \n",
       "21986       6.935432     -20.050997       1.524773     -10.203787  ...   \n",
       "21987       6.414923     -22.677649       5.439908     -20.700430  ...   \n",
       "21988      13.314815     -19.056389       3.167639     -22.196514  ...   \n",
       "21989      11.597551     -24.349867       5.051053     -25.205500  ...   \n",
       "21990      13.666182     -20.057747       2.604275     -22.221315  ...   \n",
       "\n",
       "       SpectralBandwidth79  SpectralBandwidth80  SpectralBandwidth81  \\\n",
       "0              1970.620506          2004.635337          1927.754786   \n",
       "1               708.888848           644.192354           753.837025   \n",
       "2              1739.275449          1582.944508          1526.668533   \n",
       "3              1887.760270          1207.519785          1265.807252   \n",
       "4              1501.761991          1510.786506          1134.740526   \n",
       "...                    ...                  ...                  ...   \n",
       "21986          2084.711215          2218.145406          2157.267313   \n",
       "21987          1146.273343           883.956489           855.778082   \n",
       "21988           867.073985           876.429525          1037.102964   \n",
       "21989           809.413315           915.934247          1049.698206   \n",
       "21990          2612.326237          2489.724002          2316.675266   \n",
       "\n",
       "       SpectralBandwidth82  SpectralBandwidth83  SpectralBandwidth84  \\\n",
       "0              1894.166704          1863.732656          1901.059655   \n",
       "1              1046.867774          1244.309927          1300.858221   \n",
       "2              1517.488735          1630.725978          1549.763961   \n",
       "3              1167.297109          1137.648886          1111.254205   \n",
       "4               991.162096          1534.701064          1723.189166   \n",
       "...                    ...                  ...                  ...   \n",
       "21986          2166.212626          1649.049937           991.523695   \n",
       "21987           864.090371           845.814130           843.586802   \n",
       "21988          1562.081322          2248.396355          1098.043179   \n",
       "21989          1330.326170          1900.764900          2242.214177   \n",
       "21990          1688.830053          1079.347621           955.402461   \n",
       "\n",
       "       SpectralBandwidth85  SpectralBandwidth86  SpectralBandwidth87  label  \n",
       "0              1909.425295          1894.791286          2072.903706      1  \n",
       "1              1287.754754          1553.103221          2175.267948      1  \n",
       "2              1315.840705          1240.254891          1636.078149      1  \n",
       "3              1034.212832          1923.477217          2206.757664      1  \n",
       "4              1620.427776          1554.435826          1803.725417      1  \n",
       "...                    ...                  ...                  ...    ...  \n",
       "21986           931.798712           975.935566          1353.513057      0  \n",
       "21987           757.890026           728.871154          1030.958997      0  \n",
       "21988           913.536618           822.091438          1395.147528      0  \n",
       "21989          2034.251976          1979.707348          2286.988376      0  \n",
       "21990           941.608726           989.231257          1698.958244      0  \n",
       "\n",
       "[21991 rows x 389 columns]"
      ]
     },
     "execution_count": 28,
     "metadata": {},
     "output_type": "execute_result"
    }
   ],
   "source": [
    "data_df"
   ]
  },
  {
   "cell_type": "code",
   "execution_count": 29,
   "id": "f7f10a06-3295-48ba-b474-7431ca86e20e",
   "metadata": {},
   "outputs": [
    {
     "data": {
      "text/plain": [
       "label\n",
       "1    11117\n",
       "0    10874\n",
       "Name: count, dtype: int64"
      ]
     },
     "execution_count": 29,
     "metadata": {},
     "output_type": "execute_result"
    }
   ],
   "source": [
    "data_df[\"label\"].value_counts()"
   ]
  },
  {
   "cell_type": "code",
   "execution_count": 30,
   "id": "2af38808-409e-4688-86d1-95514163fec6",
   "metadata": {},
   "outputs": [],
   "source": [
    "# Shuffle the data\n",
    "data_df = data_df.sample(frac=1).reset_index(drop=True)"
   ]
  },
  {
   "cell_type": "code",
   "execution_count": 31,
   "id": "c38860f7-78e9-4f69-9e4d-4ca693dcdf54",
   "metadata": {},
   "outputs": [
    {
     "data": {
      "text/html": [
       "<div>\n",
       "<style scoped>\n",
       "    .dataframe tbody tr th:only-of-type {\n",
       "        vertical-align: middle;\n",
       "    }\n",
       "\n",
       "    .dataframe tbody tr th {\n",
       "        vertical-align: top;\n",
       "    }\n",
       "\n",
       "    .dataframe thead th {\n",
       "        text-align: right;\n",
       "    }\n",
       "</style>\n",
       "<table border=\"1\" class=\"dataframe\">\n",
       "  <thead>\n",
       "    <tr style=\"text-align: right;\">\n",
       "      <th></th>\n",
       "      <th>file_name</th>\n",
       "      <th>mfcc_feature1</th>\n",
       "      <th>mfcc_feature2</th>\n",
       "      <th>mfcc_feature3</th>\n",
       "      <th>mfcc_feature4</th>\n",
       "      <th>mfcc_feature5</th>\n",
       "      <th>mfcc_feature6</th>\n",
       "      <th>mfcc_feature7</th>\n",
       "      <th>mfcc_feature8</th>\n",
       "      <th>mfcc_feature9</th>\n",
       "      <th>...</th>\n",
       "      <th>SpectralBandwidth79</th>\n",
       "      <th>SpectralBandwidth80</th>\n",
       "      <th>SpectralBandwidth81</th>\n",
       "      <th>SpectralBandwidth82</th>\n",
       "      <th>SpectralBandwidth83</th>\n",
       "      <th>SpectralBandwidth84</th>\n",
       "      <th>SpectralBandwidth85</th>\n",
       "      <th>SpectralBandwidth86</th>\n",
       "      <th>SpectralBandwidth87</th>\n",
       "      <th>label</th>\n",
       "    </tr>\n",
       "  </thead>\n",
       "  <tbody>\n",
       "    <tr>\n",
       "      <th>0</th>\n",
       "      <td>file14306.wav_16k.wav_norm.wav_mono.wav_silenc...</td>\n",
       "      <td>-268.37607</td>\n",
       "      <td>128.563740</td>\n",
       "      <td>23.824297</td>\n",
       "      <td>56.179350</td>\n",
       "      <td>-17.371628</td>\n",
       "      <td>16.606276</td>\n",
       "      <td>-5.311414</td>\n",
       "      <td>7.949612</td>\n",
       "      <td>-5.349787</td>\n",
       "      <td>...</td>\n",
       "      <td>1088.179605</td>\n",
       "      <td>1076.340155</td>\n",
       "      <td>919.196660</td>\n",
       "      <td>1020.811883</td>\n",
       "      <td>1204.506725</td>\n",
       "      <td>1487.452808</td>\n",
       "      <td>1514.303788</td>\n",
       "      <td>1945.566420</td>\n",
       "      <td>1811.663610</td>\n",
       "      <td>1</td>\n",
       "    </tr>\n",
       "    <tr>\n",
       "      <th>1</th>\n",
       "      <td>file9633.mp3.wav_16k.wav_norm.wav_mono.wav_sil...</td>\n",
       "      <td>-178.54076</td>\n",
       "      <td>157.901570</td>\n",
       "      <td>-23.609745</td>\n",
       "      <td>61.128323</td>\n",
       "      <td>5.781556</td>\n",
       "      <td>12.395552</td>\n",
       "      <td>0.770555</td>\n",
       "      <td>0.977917</td>\n",
       "      <td>-6.901421</td>\n",
       "      <td>...</td>\n",
       "      <td>1306.373096</td>\n",
       "      <td>1267.709701</td>\n",
       "      <td>1222.583539</td>\n",
       "      <td>1185.319195</td>\n",
       "      <td>1105.307200</td>\n",
       "      <td>1054.731181</td>\n",
       "      <td>1042.632291</td>\n",
       "      <td>996.106379</td>\n",
       "      <td>1240.980393</td>\n",
       "      <td>0</td>\n",
       "    </tr>\n",
       "    <tr>\n",
       "      <th>2</th>\n",
       "      <td>english264.mp3</td>\n",
       "      <td>-287.43800</td>\n",
       "      <td>55.565384</td>\n",
       "      <td>1.989272</td>\n",
       "      <td>23.123182</td>\n",
       "      <td>4.926158</td>\n",
       "      <td>3.822179</td>\n",
       "      <td>-21.741850</td>\n",
       "      <td>3.705103</td>\n",
       "      <td>-3.552291</td>\n",
       "      <td>...</td>\n",
       "      <td>1995.734996</td>\n",
       "      <td>2066.153729</td>\n",
       "      <td>2083.065341</td>\n",
       "      <td>2221.306892</td>\n",
       "      <td>2568.623534</td>\n",
       "      <td>1736.964033</td>\n",
       "      <td>1784.677454</td>\n",
       "      <td>2157.151575</td>\n",
       "      <td>2552.344320</td>\n",
       "      <td>1</td>\n",
       "    </tr>\n",
       "    <tr>\n",
       "      <th>3</th>\n",
       "      <td>file512.mp3.wav_16k.wav_norm.wav_mono.wav_sile...</td>\n",
       "      <td>-254.60413</td>\n",
       "      <td>160.358760</td>\n",
       "      <td>-23.736477</td>\n",
       "      <td>45.243008</td>\n",
       "      <td>-10.816714</td>\n",
       "      <td>0.971174</td>\n",
       "      <td>5.715466</td>\n",
       "      <td>-13.461154</td>\n",
       "      <td>-12.335342</td>\n",
       "      <td>...</td>\n",
       "      <td>1041.033601</td>\n",
       "      <td>899.472067</td>\n",
       "      <td>731.030661</td>\n",
       "      <td>725.430735</td>\n",
       "      <td>680.789968</td>\n",
       "      <td>512.159462</td>\n",
       "      <td>673.134298</td>\n",
       "      <td>1217.491518</td>\n",
       "      <td>1141.258508</td>\n",
       "      <td>0</td>\n",
       "    </tr>\n",
       "    <tr>\n",
       "      <th>4</th>\n",
       "      <td>farsi7_rec7.mp3</td>\n",
       "      <td>-169.46712</td>\n",
       "      <td>92.952040</td>\n",
       "      <td>-14.166198</td>\n",
       "      <td>23.069962</td>\n",
       "      <td>-25.138065</td>\n",
       "      <td>-5.467602</td>\n",
       "      <td>-2.554167</td>\n",
       "      <td>12.350635</td>\n",
       "      <td>-19.443302</td>\n",
       "      <td>...</td>\n",
       "      <td>1357.449841</td>\n",
       "      <td>1807.255503</td>\n",
       "      <td>1567.460500</td>\n",
       "      <td>1507.912864</td>\n",
       "      <td>1571.666450</td>\n",
       "      <td>1645.674274</td>\n",
       "      <td>2001.662885</td>\n",
       "      <td>2238.681123</td>\n",
       "      <td>2682.895108</td>\n",
       "      <td>0</td>\n",
       "    </tr>\n",
       "    <tr>\n",
       "      <th>...</th>\n",
       "      <td>...</td>\n",
       "      <td>...</td>\n",
       "      <td>...</td>\n",
       "      <td>...</td>\n",
       "      <td>...</td>\n",
       "      <td>...</td>\n",
       "      <td>...</td>\n",
       "      <td>...</td>\n",
       "      <td>...</td>\n",
       "      <td>...</td>\n",
       "      <td>...</td>\n",
       "      <td>...</td>\n",
       "      <td>...</td>\n",
       "      <td>...</td>\n",
       "      <td>...</td>\n",
       "      <td>...</td>\n",
       "      <td>...</td>\n",
       "      <td>...</td>\n",
       "      <td>...</td>\n",
       "      <td>...</td>\n",
       "      <td>...</td>\n",
       "    </tr>\n",
       "    <tr>\n",
       "      <th>21986</th>\n",
       "      <td>file16245.mp3.wav_16k.wav_norm.wav_mono.wav_si...</td>\n",
       "      <td>-234.30540</td>\n",
       "      <td>168.566770</td>\n",
       "      <td>-17.558565</td>\n",
       "      <td>55.854565</td>\n",
       "      <td>-5.267325</td>\n",
       "      <td>30.593945</td>\n",
       "      <td>-8.623011</td>\n",
       "      <td>6.118227</td>\n",
       "      <td>-4.942606</td>\n",
       "      <td>...</td>\n",
       "      <td>1539.406589</td>\n",
       "      <td>725.355827</td>\n",
       "      <td>739.506978</td>\n",
       "      <td>797.219443</td>\n",
       "      <td>728.569239</td>\n",
       "      <td>616.645609</td>\n",
       "      <td>671.919857</td>\n",
       "      <td>654.086056</td>\n",
       "      <td>2019.877965</td>\n",
       "      <td>0</td>\n",
       "    </tr>\n",
       "    <tr>\n",
       "      <th>21987</th>\n",
       "      <td>file14680.wav_16k.wav_norm.wav_mono.wav_silenc...</td>\n",
       "      <td>-281.23425</td>\n",
       "      <td>135.436950</td>\n",
       "      <td>-45.561337</td>\n",
       "      <td>35.400158</td>\n",
       "      <td>-34.270030</td>\n",
       "      <td>-18.539420</td>\n",
       "      <td>-15.676358</td>\n",
       "      <td>-20.794287</td>\n",
       "      <td>-12.037271</td>\n",
       "      <td>...</td>\n",
       "      <td>2691.398033</td>\n",
       "      <td>2303.551562</td>\n",
       "      <td>1348.420603</td>\n",
       "      <td>1323.737756</td>\n",
       "      <td>1247.019674</td>\n",
       "      <td>1115.661855</td>\n",
       "      <td>960.756402</td>\n",
       "      <td>922.083577</td>\n",
       "      <td>1675.904116</td>\n",
       "      <td>1</td>\n",
       "    </tr>\n",
       "    <tr>\n",
       "      <th>21988</th>\n",
       "      <td>tagalog8.mp3</td>\n",
       "      <td>-318.60486</td>\n",
       "      <td>98.842290</td>\n",
       "      <td>28.867306</td>\n",
       "      <td>30.856030</td>\n",
       "      <td>-4.191923</td>\n",
       "      <td>-7.905593</td>\n",
       "      <td>-16.889610</td>\n",
       "      <td>4.181150</td>\n",
       "      <td>-8.827864</td>\n",
       "      <td>...</td>\n",
       "      <td>2147.455802</td>\n",
       "      <td>2119.338529</td>\n",
       "      <td>1861.829863</td>\n",
       "      <td>2309.262325</td>\n",
       "      <td>2692.109006</td>\n",
       "      <td>2382.036643</td>\n",
       "      <td>1998.995392</td>\n",
       "      <td>1900.666625</td>\n",
       "      <td>2012.434165</td>\n",
       "      <td>1</td>\n",
       "    </tr>\n",
       "    <tr>\n",
       "      <th>21989</th>\n",
       "      <td>file2560.mp3.wav_16k.wav_norm.wav_mono.wav_sil...</td>\n",
       "      <td>-213.83578</td>\n",
       "      <td>144.544360</td>\n",
       "      <td>-24.402208</td>\n",
       "      <td>42.111490</td>\n",
       "      <td>-10.402835</td>\n",
       "      <td>1.368920</td>\n",
       "      <td>-17.789928</td>\n",
       "      <td>-1.303715</td>\n",
       "      <td>-6.211434</td>\n",
       "      <td>...</td>\n",
       "      <td>1114.905931</td>\n",
       "      <td>1436.933813</td>\n",
       "      <td>1033.291439</td>\n",
       "      <td>976.550079</td>\n",
       "      <td>831.218961</td>\n",
       "      <td>1106.360514</td>\n",
       "      <td>2023.932555</td>\n",
       "      <td>1746.913996</td>\n",
       "      <td>2035.467835</td>\n",
       "      <td>0</td>\n",
       "    </tr>\n",
       "    <tr>\n",
       "      <th>21990</th>\n",
       "      <td>file4722.mp3.wav_16k.wav_norm.wav_mono.wav_sil...</td>\n",
       "      <td>-217.45566</td>\n",
       "      <td>135.993200</td>\n",
       "      <td>-45.861280</td>\n",
       "      <td>44.887436</td>\n",
       "      <td>-8.249721</td>\n",
       "      <td>9.095829</td>\n",
       "      <td>-10.349731</td>\n",
       "      <td>-21.078690</td>\n",
       "      <td>-13.472206</td>\n",
       "      <td>...</td>\n",
       "      <td>929.248747</td>\n",
       "      <td>878.770474</td>\n",
       "      <td>938.669361</td>\n",
       "      <td>991.894807</td>\n",
       "      <td>1079.663037</td>\n",
       "      <td>1113.073369</td>\n",
       "      <td>1265.128061</td>\n",
       "      <td>1265.868840</td>\n",
       "      <td>1747.037596</td>\n",
       "      <td>0</td>\n",
       "    </tr>\n",
       "  </tbody>\n",
       "</table>\n",
       "<p>21991 rows × 389 columns</p>\n",
       "</div>"
      ],
      "text/plain": [
       "                                               file_name  mfcc_feature1  \\\n",
       "0      file14306.wav_16k.wav_norm.wav_mono.wav_silenc...     -268.37607   \n",
       "1      file9633.mp3.wav_16k.wav_norm.wav_mono.wav_sil...     -178.54076   \n",
       "2                                         english264.mp3     -287.43800   \n",
       "3      file512.mp3.wav_16k.wav_norm.wav_mono.wav_sile...     -254.60413   \n",
       "4                                        farsi7_rec7.mp3     -169.46712   \n",
       "...                                                  ...            ...   \n",
       "21986  file16245.mp3.wav_16k.wav_norm.wav_mono.wav_si...     -234.30540   \n",
       "21987  file14680.wav_16k.wav_norm.wav_mono.wav_silenc...     -281.23425   \n",
       "21988                                       tagalog8.mp3     -318.60486   \n",
       "21989  file2560.mp3.wav_16k.wav_norm.wav_mono.wav_sil...     -213.83578   \n",
       "21990  file4722.mp3.wav_16k.wav_norm.wav_mono.wav_sil...     -217.45566   \n",
       "\n",
       "       mfcc_feature2  mfcc_feature3  mfcc_feature4  mfcc_feature5  \\\n",
       "0         128.563740      23.824297      56.179350     -17.371628   \n",
       "1         157.901570     -23.609745      61.128323       5.781556   \n",
       "2          55.565384       1.989272      23.123182       4.926158   \n",
       "3         160.358760     -23.736477      45.243008     -10.816714   \n",
       "4          92.952040     -14.166198      23.069962     -25.138065   \n",
       "...              ...            ...            ...            ...   \n",
       "21986     168.566770     -17.558565      55.854565      -5.267325   \n",
       "21987     135.436950     -45.561337      35.400158     -34.270030   \n",
       "21988      98.842290      28.867306      30.856030      -4.191923   \n",
       "21989     144.544360     -24.402208      42.111490     -10.402835   \n",
       "21990     135.993200     -45.861280      44.887436      -8.249721   \n",
       "\n",
       "       mfcc_feature6  mfcc_feature7  mfcc_feature8  mfcc_feature9  ...  \\\n",
       "0          16.606276      -5.311414       7.949612      -5.349787  ...   \n",
       "1          12.395552       0.770555       0.977917      -6.901421  ...   \n",
       "2           3.822179     -21.741850       3.705103      -3.552291  ...   \n",
       "3           0.971174       5.715466     -13.461154     -12.335342  ...   \n",
       "4          -5.467602      -2.554167      12.350635     -19.443302  ...   \n",
       "...              ...            ...            ...            ...  ...   \n",
       "21986      30.593945      -8.623011       6.118227      -4.942606  ...   \n",
       "21987     -18.539420     -15.676358     -20.794287     -12.037271  ...   \n",
       "21988      -7.905593     -16.889610       4.181150      -8.827864  ...   \n",
       "21989       1.368920     -17.789928      -1.303715      -6.211434  ...   \n",
       "21990       9.095829     -10.349731     -21.078690     -13.472206  ...   \n",
       "\n",
       "       SpectralBandwidth79  SpectralBandwidth80  SpectralBandwidth81  \\\n",
       "0              1088.179605          1076.340155           919.196660   \n",
       "1              1306.373096          1267.709701          1222.583539   \n",
       "2              1995.734996          2066.153729          2083.065341   \n",
       "3              1041.033601           899.472067           731.030661   \n",
       "4              1357.449841          1807.255503          1567.460500   \n",
       "...                    ...                  ...                  ...   \n",
       "21986          1539.406589           725.355827           739.506978   \n",
       "21987          2691.398033          2303.551562          1348.420603   \n",
       "21988          2147.455802          2119.338529          1861.829863   \n",
       "21989          1114.905931          1436.933813          1033.291439   \n",
       "21990           929.248747           878.770474           938.669361   \n",
       "\n",
       "       SpectralBandwidth82  SpectralBandwidth83  SpectralBandwidth84  \\\n",
       "0              1020.811883          1204.506725          1487.452808   \n",
       "1              1185.319195          1105.307200          1054.731181   \n",
       "2              2221.306892          2568.623534          1736.964033   \n",
       "3               725.430735           680.789968           512.159462   \n",
       "4              1507.912864          1571.666450          1645.674274   \n",
       "...                    ...                  ...                  ...   \n",
       "21986           797.219443           728.569239           616.645609   \n",
       "21987          1323.737756          1247.019674          1115.661855   \n",
       "21988          2309.262325          2692.109006          2382.036643   \n",
       "21989           976.550079           831.218961          1106.360514   \n",
       "21990           991.894807          1079.663037          1113.073369   \n",
       "\n",
       "       SpectralBandwidth85  SpectralBandwidth86  SpectralBandwidth87  label  \n",
       "0              1514.303788          1945.566420          1811.663610      1  \n",
       "1              1042.632291           996.106379          1240.980393      0  \n",
       "2              1784.677454          2157.151575          2552.344320      1  \n",
       "3               673.134298          1217.491518          1141.258508      0  \n",
       "4              2001.662885          2238.681123          2682.895108      0  \n",
       "...                    ...                  ...                  ...    ...  \n",
       "21986           671.919857           654.086056          2019.877965      0  \n",
       "21987           960.756402           922.083577          1675.904116      1  \n",
       "21988          1998.995392          1900.666625          2012.434165      1  \n",
       "21989          2023.932555          1746.913996          2035.467835      0  \n",
       "21990          1265.128061          1265.868840          1747.037596      0  \n",
       "\n",
       "[21991 rows x 389 columns]"
      ]
     },
     "execution_count": 31,
     "metadata": {},
     "output_type": "execute_result"
    }
   ],
   "source": [
    "data_df"
   ]
  },
  {
   "cell_type": "code",
   "execution_count": 32,
   "id": "b9844dca-9f46-4616-9744-26335c8f8d42",
   "metadata": {},
   "outputs": [],
   "source": [
    "# Split features and labels\n",
    "X = data_df.drop(columns=['file_name', 'label']).values\n",
    "y = data_df['label'].values"
   ]
  },
  {
   "cell_type": "code",
   "execution_count": 33,
   "id": "649befb6-21d3-4341-a9ab-e8facb2ae58a",
   "metadata": {
    "scrolled": true
   },
   "outputs": [
    {
     "data": {
      "text/plain": [
       "(21991, 387)"
      ]
     },
     "execution_count": 33,
     "metadata": {},
     "output_type": "execute_result"
    }
   ],
   "source": [
    "X.shape"
   ]
  },
  {
   "cell_type": "markdown",
   "id": "570dd240-d179-4b4c-b462-fae93b9921dd",
   "metadata": {},
   "source": [
    "# 4. Split into training and testing sets"
   ]
  },
  {
   "cell_type": "code",
   "execution_count": 34,
   "id": "4b17909c-1046-4d43-9803-da3b81ae177f",
   "metadata": {},
   "outputs": [],
   "source": [
    "X_train, X_test, y_train, y_test = train_test_split(X, y, test_size=0.2, random_state=42)"
   ]
  },
  {
   "cell_type": "code",
   "execution_count": 35,
   "id": "4799f2c5-c08c-4380-97b7-d3005e923ff9",
   "metadata": {
    "scrolled": true
   },
   "outputs": [
    {
     "data": {
      "text/plain": [
       "(4399, 387)"
      ]
     },
     "execution_count": 35,
     "metadata": {},
     "output_type": "execute_result"
    }
   ],
   "source": [
    "X_test.shape"
   ]
  },
  {
   "cell_type": "code",
   "execution_count": 36,
   "id": "be625911-5a76-418e-9c08-c265f0195d65",
   "metadata": {},
   "outputs": [
    {
     "data": {
      "text/plain": [
       "(4399,)"
      ]
     },
     "execution_count": 36,
     "metadata": {},
     "output_type": "execute_result"
    }
   ],
   "source": [
    "y_test.shape"
   ]
  },
  {
   "cell_type": "markdown",
   "id": "15c5ff84-0378-4540-a6db-a7a1350d6210",
   "metadata": {},
   "source": [
    "# 5. Restructure for CNN"
   ]
  },
  {
   "cell_type": "code",
   "execution_count": 37,
   "id": "0997e85a-aa94-4bdd-b892-a04862c81168",
   "metadata": {},
   "outputs": [
    {
     "data": {
      "text/plain": [
       "['df_scaler.pkl']"
      ]
     },
     "execution_count": 37,
     "metadata": {},
     "output_type": "execute_result"
    }
   ],
   "source": [
    "# Standardize the features\n",
    "scaler = StandardScaler()\n",
    "X_train = scaler.fit_transform(X_train)\n",
    "X_test = scaler.transform(X_test)\n",
    "\n",
    "# Save the scaler\n",
    "joblib.dump(scaler, 'df_scaler.pkl')"
   ]
  },
  {
   "cell_type": "code",
   "execution_count": 38,
   "id": "cd44144a-95eb-4d6e-9c37-625e40811087",
   "metadata": {},
   "outputs": [
    {
     "data": {
      "text/plain": [
       "(17592, 387)"
      ]
     },
     "execution_count": 38,
     "metadata": {},
     "output_type": "execute_result"
    }
   ],
   "source": [
    "X_train.shape # output: rows, columns, 1, 1"
   ]
  },
  {
   "cell_type": "code",
   "execution_count": 39,
   "id": "6e77bacb-d0c8-4b24-b649-8b10d7388284",
   "metadata": {},
   "outputs": [],
   "source": [
    "X_train = X_train.reshape((X_train.shape[0], X_train.shape[1], 1, 1))\n",
    "X_test = X_test.reshape((X_test.shape[0], X_test.shape[1], 1, 1))"
   ]
  },
  {
   "cell_type": "code",
   "execution_count": 40,
   "id": "2fef38e0-932a-4ac6-82cb-eab349d74b54",
   "metadata": {
    "scrolled": true
   },
   "outputs": [
    {
     "data": {
      "text/plain": [
       "(4399, 387, 1, 1)"
      ]
     },
     "execution_count": 40,
     "metadata": {},
     "output_type": "execute_result"
    }
   ],
   "source": [
    "X_test.shape"
   ]
  },
  {
   "cell_type": "markdown",
   "id": "3bf1d1c8-af36-4184-afc9-7ec68eba82ce",
   "metadata": {},
   "source": [
    "# 6. Define CNN Model"
   ]
  },
  {
   "cell_type": "code",
   "execution_count": 42,
   "id": "5958bb17-6d0d-48ae-80ee-289fe20471c6",
   "metadata": {
    "scrolled": true
   },
   "outputs": [
    {
     "data": {
      "text/html": [
       "<pre style=\"white-space:pre;overflow-x:auto;line-height:normal;font-family:Menlo,'DejaVu Sans Mono',consolas,'Courier New',monospace\"><span style=\"font-weight: bold\">Model: \"sequential_1\"</span>\n",
       "</pre>\n"
      ],
      "text/plain": [
       "\u001b[1mModel: \"sequential_1\"\u001b[0m\n"
      ]
     },
     "metadata": {},
     "output_type": "display_data"
    },
    {
     "data": {
      "text/html": [
       "<pre style=\"white-space:pre;overflow-x:auto;line-height:normal;font-family:Menlo,'DejaVu Sans Mono',consolas,'Courier New',monospace\">┏━━━━━━━━━━━━━━━━━━━━━━━━━━━━━━━━━━━━━━┳━━━━━━━━━━━━━━━━━━━━━━━━━━━━━┳━━━━━━━━━━━━━━━━━┓\n",
       "┃<span style=\"font-weight: bold\"> Layer (type)                         </span>┃<span style=\"font-weight: bold\"> Output Shape                </span>┃<span style=\"font-weight: bold\">         Param # </span>┃\n",
       "┡━━━━━━━━━━━━━━━━━━━━━━━━━━━━━━━━━━━━━━╇━━━━━━━━━━━━━━━━━━━━━━━━━━━━━╇━━━━━━━━━━━━━━━━━┩\n",
       "│ conv2d_4 (<span style=\"color: #0087ff; text-decoration-color: #0087ff\">Conv2D</span>)                    │ (<span style=\"color: #00d7ff; text-decoration-color: #00d7ff\">None</span>, <span style=\"color: #00af00; text-decoration-color: #00af00\">387</span>, <span style=\"color: #00af00; text-decoration-color: #00af00\">1</span>, <span style=\"color: #00af00; text-decoration-color: #00af00\">32</span>)          │             <span style=\"color: #00af00; text-decoration-color: #00af00\">320</span> │\n",
       "├──────────────────────────────────────┼─────────────────────────────┼─────────────────┤\n",
       "│ max_pooling2d_4 (<span style=\"color: #0087ff; text-decoration-color: #0087ff\">MaxPooling2D</span>)       │ (<span style=\"color: #00d7ff; text-decoration-color: #00d7ff\">None</span>, <span style=\"color: #00af00; text-decoration-color: #00af00\">193</span>, <span style=\"color: #00af00; text-decoration-color: #00af00\">1</span>, <span style=\"color: #00af00; text-decoration-color: #00af00\">32</span>)          │               <span style=\"color: #00af00; text-decoration-color: #00af00\">0</span> │\n",
       "├──────────────────────────────────────┼─────────────────────────────┼─────────────────┤\n",
       "│ conv2d_5 (<span style=\"color: #0087ff; text-decoration-color: #0087ff\">Conv2D</span>)                    │ (<span style=\"color: #00d7ff; text-decoration-color: #00d7ff\">None</span>, <span style=\"color: #00af00; text-decoration-color: #00af00\">193</span>, <span style=\"color: #00af00; text-decoration-color: #00af00\">1</span>, <span style=\"color: #00af00; text-decoration-color: #00af00\">64</span>)          │          <span style=\"color: #00af00; text-decoration-color: #00af00\">18,496</span> │\n",
       "├──────────────────────────────────────┼─────────────────────────────┼─────────────────┤\n",
       "│ max_pooling2d_5 (<span style=\"color: #0087ff; text-decoration-color: #0087ff\">MaxPooling2D</span>)       │ (<span style=\"color: #00d7ff; text-decoration-color: #00d7ff\">None</span>, <span style=\"color: #00af00; text-decoration-color: #00af00\">96</span>, <span style=\"color: #00af00; text-decoration-color: #00af00\">1</span>, <span style=\"color: #00af00; text-decoration-color: #00af00\">64</span>)           │               <span style=\"color: #00af00; text-decoration-color: #00af00\">0</span> │\n",
       "├──────────────────────────────────────┼─────────────────────────────┼─────────────────┤\n",
       "│ conv2d_6 (<span style=\"color: #0087ff; text-decoration-color: #0087ff\">Conv2D</span>)                    │ (<span style=\"color: #00d7ff; text-decoration-color: #00d7ff\">None</span>, <span style=\"color: #00af00; text-decoration-color: #00af00\">96</span>, <span style=\"color: #00af00; text-decoration-color: #00af00\">1</span>, <span style=\"color: #00af00; text-decoration-color: #00af00\">128</span>)          │          <span style=\"color: #00af00; text-decoration-color: #00af00\">73,856</span> │\n",
       "├──────────────────────────────────────┼─────────────────────────────┼─────────────────┤\n",
       "│ max_pooling2d_6 (<span style=\"color: #0087ff; text-decoration-color: #0087ff\">MaxPooling2D</span>)       │ (<span style=\"color: #00d7ff; text-decoration-color: #00d7ff\">None</span>, <span style=\"color: #00af00; text-decoration-color: #00af00\">48</span>, <span style=\"color: #00af00; text-decoration-color: #00af00\">1</span>, <span style=\"color: #00af00; text-decoration-color: #00af00\">128</span>)          │               <span style=\"color: #00af00; text-decoration-color: #00af00\">0</span> │\n",
       "├──────────────────────────────────────┼─────────────────────────────┼─────────────────┤\n",
       "│ conv2d_7 (<span style=\"color: #0087ff; text-decoration-color: #0087ff\">Conv2D</span>)                    │ (<span style=\"color: #00d7ff; text-decoration-color: #00d7ff\">None</span>, <span style=\"color: #00af00; text-decoration-color: #00af00\">48</span>, <span style=\"color: #00af00; text-decoration-color: #00af00\">1</span>, <span style=\"color: #00af00; text-decoration-color: #00af00\">256</span>)          │         <span style=\"color: #00af00; text-decoration-color: #00af00\">295,168</span> │\n",
       "├──────────────────────────────────────┼─────────────────────────────┼─────────────────┤\n",
       "│ max_pooling2d_7 (<span style=\"color: #0087ff; text-decoration-color: #0087ff\">MaxPooling2D</span>)       │ (<span style=\"color: #00d7ff; text-decoration-color: #00d7ff\">None</span>, <span style=\"color: #00af00; text-decoration-color: #00af00\">24</span>, <span style=\"color: #00af00; text-decoration-color: #00af00\">1</span>, <span style=\"color: #00af00; text-decoration-color: #00af00\">256</span>)          │               <span style=\"color: #00af00; text-decoration-color: #00af00\">0</span> │\n",
       "├──────────────────────────────────────┼─────────────────────────────┼─────────────────┤\n",
       "│ flatten_1 (<span style=\"color: #0087ff; text-decoration-color: #0087ff\">Flatten</span>)                  │ (<span style=\"color: #00d7ff; text-decoration-color: #00d7ff\">None</span>, <span style=\"color: #00af00; text-decoration-color: #00af00\">6144</span>)                │               <span style=\"color: #00af00; text-decoration-color: #00af00\">0</span> │\n",
       "├──────────────────────────────────────┼─────────────────────────────┼─────────────────┤\n",
       "│ dense_3 (<span style=\"color: #0087ff; text-decoration-color: #0087ff\">Dense</span>)                      │ (<span style=\"color: #00d7ff; text-decoration-color: #00d7ff\">None</span>, <span style=\"color: #00af00; text-decoration-color: #00af00\">256</span>)                 │       <span style=\"color: #00af00; text-decoration-color: #00af00\">1,573,120</span> │\n",
       "├──────────────────────────────────────┼─────────────────────────────┼─────────────────┤\n",
       "│ dropout_2 (<span style=\"color: #0087ff; text-decoration-color: #0087ff\">Dropout</span>)                  │ (<span style=\"color: #00d7ff; text-decoration-color: #00d7ff\">None</span>, <span style=\"color: #00af00; text-decoration-color: #00af00\">256</span>)                 │               <span style=\"color: #00af00; text-decoration-color: #00af00\">0</span> │\n",
       "├──────────────────────────────────────┼─────────────────────────────┼─────────────────┤\n",
       "│ dense_4 (<span style=\"color: #0087ff; text-decoration-color: #0087ff\">Dense</span>)                      │ (<span style=\"color: #00d7ff; text-decoration-color: #00d7ff\">None</span>, <span style=\"color: #00af00; text-decoration-color: #00af00\">128</span>)                 │          <span style=\"color: #00af00; text-decoration-color: #00af00\">32,896</span> │\n",
       "├──────────────────────────────────────┼─────────────────────────────┼─────────────────┤\n",
       "│ dropout_3 (<span style=\"color: #0087ff; text-decoration-color: #0087ff\">Dropout</span>)                  │ (<span style=\"color: #00d7ff; text-decoration-color: #00d7ff\">None</span>, <span style=\"color: #00af00; text-decoration-color: #00af00\">128</span>)                 │               <span style=\"color: #00af00; text-decoration-color: #00af00\">0</span> │\n",
       "├──────────────────────────────────────┼─────────────────────────────┼─────────────────┤\n",
       "│ dense_5 (<span style=\"color: #0087ff; text-decoration-color: #0087ff\">Dense</span>)                      │ (<span style=\"color: #00d7ff; text-decoration-color: #00d7ff\">None</span>, <span style=\"color: #00af00; text-decoration-color: #00af00\">1</span>)                   │             <span style=\"color: #00af00; text-decoration-color: #00af00\">129</span> │\n",
       "└──────────────────────────────────────┴─────────────────────────────┴─────────────────┘\n",
       "</pre>\n"
      ],
      "text/plain": [
       "┏━━━━━━━━━━━━━━━━━━━━━━━━━━━━━━━━━━━━━━┳━━━━━━━━━━━━━━━━━━━━━━━━━━━━━┳━━━━━━━━━━━━━━━━━┓\n",
       "┃\u001b[1m \u001b[0m\u001b[1mLayer (type)                        \u001b[0m\u001b[1m \u001b[0m┃\u001b[1m \u001b[0m\u001b[1mOutput Shape               \u001b[0m\u001b[1m \u001b[0m┃\u001b[1m \u001b[0m\u001b[1m        Param #\u001b[0m\u001b[1m \u001b[0m┃\n",
       "┡━━━━━━━━━━━━━━━━━━━━━━━━━━━━━━━━━━━━━━╇━━━━━━━━━━━━━━━━━━━━━━━━━━━━━╇━━━━━━━━━━━━━━━━━┩\n",
       "│ conv2d_4 (\u001b[38;5;33mConv2D\u001b[0m)                    │ (\u001b[38;5;45mNone\u001b[0m, \u001b[38;5;34m387\u001b[0m, \u001b[38;5;34m1\u001b[0m, \u001b[38;5;34m32\u001b[0m)          │             \u001b[38;5;34m320\u001b[0m │\n",
       "├──────────────────────────────────────┼─────────────────────────────┼─────────────────┤\n",
       "│ max_pooling2d_4 (\u001b[38;5;33mMaxPooling2D\u001b[0m)       │ (\u001b[38;5;45mNone\u001b[0m, \u001b[38;5;34m193\u001b[0m, \u001b[38;5;34m1\u001b[0m, \u001b[38;5;34m32\u001b[0m)          │               \u001b[38;5;34m0\u001b[0m │\n",
       "├──────────────────────────────────────┼─────────────────────────────┼─────────────────┤\n",
       "│ conv2d_5 (\u001b[38;5;33mConv2D\u001b[0m)                    │ (\u001b[38;5;45mNone\u001b[0m, \u001b[38;5;34m193\u001b[0m, \u001b[38;5;34m1\u001b[0m, \u001b[38;5;34m64\u001b[0m)          │          \u001b[38;5;34m18,496\u001b[0m │\n",
       "├──────────────────────────────────────┼─────────────────────────────┼─────────────────┤\n",
       "│ max_pooling2d_5 (\u001b[38;5;33mMaxPooling2D\u001b[0m)       │ (\u001b[38;5;45mNone\u001b[0m, \u001b[38;5;34m96\u001b[0m, \u001b[38;5;34m1\u001b[0m, \u001b[38;5;34m64\u001b[0m)           │               \u001b[38;5;34m0\u001b[0m │\n",
       "├──────────────────────────────────────┼─────────────────────────────┼─────────────────┤\n",
       "│ conv2d_6 (\u001b[38;5;33mConv2D\u001b[0m)                    │ (\u001b[38;5;45mNone\u001b[0m, \u001b[38;5;34m96\u001b[0m, \u001b[38;5;34m1\u001b[0m, \u001b[38;5;34m128\u001b[0m)          │          \u001b[38;5;34m73,856\u001b[0m │\n",
       "├──────────────────────────────────────┼─────────────────────────────┼─────────────────┤\n",
       "│ max_pooling2d_6 (\u001b[38;5;33mMaxPooling2D\u001b[0m)       │ (\u001b[38;5;45mNone\u001b[0m, \u001b[38;5;34m48\u001b[0m, \u001b[38;5;34m1\u001b[0m, \u001b[38;5;34m128\u001b[0m)          │               \u001b[38;5;34m0\u001b[0m │\n",
       "├──────────────────────────────────────┼─────────────────────────────┼─────────────────┤\n",
       "│ conv2d_7 (\u001b[38;5;33mConv2D\u001b[0m)                    │ (\u001b[38;5;45mNone\u001b[0m, \u001b[38;5;34m48\u001b[0m, \u001b[38;5;34m1\u001b[0m, \u001b[38;5;34m256\u001b[0m)          │         \u001b[38;5;34m295,168\u001b[0m │\n",
       "├──────────────────────────────────────┼─────────────────────────────┼─────────────────┤\n",
       "│ max_pooling2d_7 (\u001b[38;5;33mMaxPooling2D\u001b[0m)       │ (\u001b[38;5;45mNone\u001b[0m, \u001b[38;5;34m24\u001b[0m, \u001b[38;5;34m1\u001b[0m, \u001b[38;5;34m256\u001b[0m)          │               \u001b[38;5;34m0\u001b[0m │\n",
       "├──────────────────────────────────────┼─────────────────────────────┼─────────────────┤\n",
       "│ flatten_1 (\u001b[38;5;33mFlatten\u001b[0m)                  │ (\u001b[38;5;45mNone\u001b[0m, \u001b[38;5;34m6144\u001b[0m)                │               \u001b[38;5;34m0\u001b[0m │\n",
       "├──────────────────────────────────────┼─────────────────────────────┼─────────────────┤\n",
       "│ dense_3 (\u001b[38;5;33mDense\u001b[0m)                      │ (\u001b[38;5;45mNone\u001b[0m, \u001b[38;5;34m256\u001b[0m)                 │       \u001b[38;5;34m1,573,120\u001b[0m │\n",
       "├──────────────────────────────────────┼─────────────────────────────┼─────────────────┤\n",
       "│ dropout_2 (\u001b[38;5;33mDropout\u001b[0m)                  │ (\u001b[38;5;45mNone\u001b[0m, \u001b[38;5;34m256\u001b[0m)                 │               \u001b[38;5;34m0\u001b[0m │\n",
       "├──────────────────────────────────────┼─────────────────────────────┼─────────────────┤\n",
       "│ dense_4 (\u001b[38;5;33mDense\u001b[0m)                      │ (\u001b[38;5;45mNone\u001b[0m, \u001b[38;5;34m128\u001b[0m)                 │          \u001b[38;5;34m32,896\u001b[0m │\n",
       "├──────────────────────────────────────┼─────────────────────────────┼─────────────────┤\n",
       "│ dropout_3 (\u001b[38;5;33mDropout\u001b[0m)                  │ (\u001b[38;5;45mNone\u001b[0m, \u001b[38;5;34m128\u001b[0m)                 │               \u001b[38;5;34m0\u001b[0m │\n",
       "├──────────────────────────────────────┼─────────────────────────────┼─────────────────┤\n",
       "│ dense_5 (\u001b[38;5;33mDense\u001b[0m)                      │ (\u001b[38;5;45mNone\u001b[0m, \u001b[38;5;34m1\u001b[0m)                   │             \u001b[38;5;34m129\u001b[0m │\n",
       "└──────────────────────────────────────┴─────────────────────────────┴─────────────────┘\n"
      ]
     },
     "metadata": {},
     "output_type": "display_data"
    },
    {
     "data": {
      "text/html": [
       "<pre style=\"white-space:pre;overflow-x:auto;line-height:normal;font-family:Menlo,'DejaVu Sans Mono',consolas,'Courier New',monospace\"><span style=\"font-weight: bold\"> Total params: </span><span style=\"color: #00af00; text-decoration-color: #00af00\">1,993,985</span> (7.61 MB)\n",
       "</pre>\n"
      ],
      "text/plain": [
       "\u001b[1m Total params: \u001b[0m\u001b[38;5;34m1,993,985\u001b[0m (7.61 MB)\n"
      ]
     },
     "metadata": {},
     "output_type": "display_data"
    },
    {
     "data": {
      "text/html": [
       "<pre style=\"white-space:pre;overflow-x:auto;line-height:normal;font-family:Menlo,'DejaVu Sans Mono',consolas,'Courier New',monospace\"><span style=\"font-weight: bold\"> Trainable params: </span><span style=\"color: #00af00; text-decoration-color: #00af00\">1,993,985</span> (7.61 MB)\n",
       "</pre>\n"
      ],
      "text/plain": [
       "\u001b[1m Trainable params: \u001b[0m\u001b[38;5;34m1,993,985\u001b[0m (7.61 MB)\n"
      ]
     },
     "metadata": {},
     "output_type": "display_data"
    },
    {
     "data": {
      "text/html": [
       "<pre style=\"white-space:pre;overflow-x:auto;line-height:normal;font-family:Menlo,'DejaVu Sans Mono',consolas,'Courier New',monospace\"><span style=\"font-weight: bold\"> Non-trainable params: </span><span style=\"color: #00af00; text-decoration-color: #00af00\">0</span> (0.00 B)\n",
       "</pre>\n"
      ],
      "text/plain": [
       "\u001b[1m Non-trainable params: \u001b[0m\u001b[38;5;34m0\u001b[0m (0.00 B)\n"
      ]
     },
     "metadata": {},
     "output_type": "display_data"
    }
   ],
   "source": [
    "from tensorflow.keras.models import Sequential\n",
    "from tensorflow.keras.layers import Conv2D, MaxPooling2D, Flatten, Dense, Dropout, Input\n",
    "\n",
    "# Define the model\n",
    "model = Sequential([\n",
    "    # Convolutional Layers\n",
    "    Conv2D(32, (3, 3), activation='relu', input_shape=(X_train.shape[1], 1, 1), padding='same'),\n",
    "    # Pooling Layers\n",
    "    MaxPooling2D((2, 1)),\n",
    "    Conv2D(64, (3, 3), activation='relu', padding='same'),\n",
    "    MaxPooling2D((2, 1)),\n",
    "    Conv2D(128, (3, 3), activation='relu', padding='same'),\n",
    "    MaxPooling2D((2, 1)),\n",
    "    Conv2D(256, (3, 3), activation='relu', padding='same'),\n",
    "    MaxPooling2D((2, 1)),\n",
    "    # Flatten Layer: Convert the feature maps into a 1D vector.\n",
    "    Flatten(),\n",
    "    # Hidden Layers: Extract and transform features from the flattened vector.\n",
    "    Dense(256, activation='relu'),\n",
    "    Dropout(0.5),\n",
    "    Dense(128, activation='relu'),\n",
    "    Dropout(0.5),\n",
    "    # Output Layer: Produces the final prediction. activation function = sigmoid for binary classification\n",
    "    Dense(1, activation='sigmoid')\n",
    "])\n",
    "\n",
    "# model = Sequential([\n",
    "#     Input(shape=(X_train.shape[1], X_train.shape[2], 1)),  # Define the input shape using the Input layer\n",
    "#     Conv2D(32, (3, 3), activation='relu', padding='same'),\n",
    "#     MaxPooling2D((2, 1)),\n",
    "#     Conv2D(64, (3, 3), activation='relu', padding='same'),\n",
    "#     MaxPooling2D((2, 1)),\n",
    "#     Conv2D(128, (3, 3), activation='relu', padding='same'),\n",
    "#     MaxPooling2D((2, 1)),\n",
    "#     Conv2D(256, (3, 3), activation='relu', padding='same'),\n",
    "#     MaxPooling2D((2, 1)),\n",
    "#     Flatten(),\n",
    "#     Dense(256, activation='relu'),\n",
    "#     Dropout(0.5),\n",
    "#     Dense(128, activation='relu'),\n",
    "#     Dropout(0.5),\n",
    "#     Dense(1, activation='sigmoid')\n",
    "# ])\n",
    "\n",
    "# Compile\n",
    "# Optimizer to consider 'SGD' | RMSprop \n",
    "model.compile(optimizer='adam', loss='binary_crossentropy', metrics=['accuracy'])\n",
    "\n",
    "model.summary()"
   ]
  },
  {
   "cell_type": "markdown",
   "id": "1b8afb47-20a5-425e-8407-a5fb97d5cb8a",
   "metadata": {},
   "source": [
    "# 7. Train the model"
   ]
  },
  {
   "cell_type": "code",
   "execution_count": 43,
   "id": "8364faad-8f80-4573-96d9-0fc524ed7e8e",
   "metadata": {},
   "outputs": [
    {
     "name": "stdout",
     "output_type": "stream",
     "text": [
      "Epoch 1/30\n",
      "\u001b[1m220/220\u001b[0m \u001b[32m━━━━━━━━━━━━━━━━━━━━\u001b[0m\u001b[37m\u001b[0m \u001b[1m18s\u001b[0m 70ms/step - accuracy: 0.6897 - loss: 0.5716 - val_accuracy: 0.8440 - val_loss: 0.3637\n",
      "Epoch 2/30\n",
      "\u001b[1m220/220\u001b[0m \u001b[32m━━━━━━━━━━━━━━━━━━━━\u001b[0m\u001b[37m\u001b[0m \u001b[1m15s\u001b[0m 67ms/step - accuracy: 0.8525 - loss: 0.3537 - val_accuracy: 0.9108 - val_loss: 0.2280\n",
      "Epoch 3/30\n",
      "\u001b[1m220/220\u001b[0m \u001b[32m━━━━━━━━━━━━━━━━━━━━\u001b[0m\u001b[37m\u001b[0m \u001b[1m19s\u001b[0m 85ms/step - accuracy: 0.9100 - loss: 0.2283 - val_accuracy: 0.9341 - val_loss: 0.1751\n",
      "Epoch 4/30\n",
      "\u001b[1m220/220\u001b[0m \u001b[32m━━━━━━━━━━━━━━━━━━━━\u001b[0m\u001b[37m\u001b[0m \u001b[1m19s\u001b[0m 84ms/step - accuracy: 0.9364 - loss: 0.1641 - val_accuracy: 0.9312 - val_loss: 0.1670\n",
      "Epoch 5/30\n",
      "\u001b[1m220/220\u001b[0m \u001b[32m━━━━━━━━━━━━━━━━━━━━\u001b[0m\u001b[37m\u001b[0m \u001b[1m19s\u001b[0m 85ms/step - accuracy: 0.9540 - loss: 0.1232 - val_accuracy: 0.9437 - val_loss: 0.1391\n",
      "Epoch 6/30\n",
      "\u001b[1m220/220\u001b[0m \u001b[32m━━━━━━━━━━━━━━━━━━━━\u001b[0m\u001b[37m\u001b[0m \u001b[1m19s\u001b[0m 86ms/step - accuracy: 0.9629 - loss: 0.0990 - val_accuracy: 0.9432 - val_loss: 0.1558\n",
      "Epoch 7/30\n",
      "\u001b[1m220/220\u001b[0m \u001b[32m━━━━━━━━━━━━━━━━━━━━\u001b[0m\u001b[37m\u001b[0m \u001b[1m21s\u001b[0m 96ms/step - accuracy: 0.9670 - loss: 0.0871 - val_accuracy: 0.9568 - val_loss: 0.1217\n",
      "Epoch 8/30\n",
      "\u001b[1m220/220\u001b[0m \u001b[32m━━━━━━━━━━━━━━━━━━━━\u001b[0m\u001b[37m\u001b[0m \u001b[1m15s\u001b[0m 68ms/step - accuracy: 0.9762 - loss: 0.0701 - val_accuracy: 0.9585 - val_loss: 0.1316\n",
      "Epoch 9/30\n",
      "\u001b[1m220/220\u001b[0m \u001b[32m━━━━━━━━━━━━━━━━━━━━\u001b[0m\u001b[37m\u001b[0m \u001b[1m15s\u001b[0m 66ms/step - accuracy: 0.9814 - loss: 0.0526 - val_accuracy: 0.9557 - val_loss: 0.1325\n",
      "Epoch 10/30\n",
      "\u001b[1m220/220\u001b[0m \u001b[32m━━━━━━━━━━━━━━━━━━━━\u001b[0m\u001b[37m\u001b[0m \u001b[1m13s\u001b[0m 61ms/step - accuracy: 0.9854 - loss: 0.0440 - val_accuracy: 0.9582 - val_loss: 0.1466\n",
      "Epoch 11/30\n",
      "\u001b[1m220/220\u001b[0m \u001b[32m━━━━━━━━━━━━━━━━━━━━\u001b[0m\u001b[37m\u001b[0m \u001b[1m13s\u001b[0m 59ms/step - accuracy: 0.9835 - loss: 0.0435 - val_accuracy: 0.9628 - val_loss: 0.1253\n",
      "Epoch 12/30\n",
      "\u001b[1m220/220\u001b[0m \u001b[32m━━━━━━━━━━━━━━━━━━━━\u001b[0m\u001b[37m\u001b[0m \u001b[1m13s\u001b[0m 58ms/step - accuracy: 0.9878 - loss: 0.0331 - val_accuracy: 0.9579 - val_loss: 0.1499\n",
      "Epoch 13/30\n",
      "\u001b[1m220/220\u001b[0m \u001b[32m━━━━━━━━━━━━━━━━━━━━\u001b[0m\u001b[37m\u001b[0m \u001b[1m13s\u001b[0m 58ms/step - accuracy: 0.9876 - loss: 0.0355 - val_accuracy: 0.9506 - val_loss: 0.2103\n",
      "Epoch 14/30\n",
      "\u001b[1m220/220\u001b[0m \u001b[32m━━━━━━━━━━━━━━━━━━━━\u001b[0m\u001b[37m\u001b[0m \u001b[1m13s\u001b[0m 61ms/step - accuracy: 0.9890 - loss: 0.0326 - val_accuracy: 0.9642 - val_loss: 0.1398\n",
      "Epoch 15/30\n",
      "\u001b[1m220/220\u001b[0m \u001b[32m━━━━━━━━━━━━━━━━━━━━\u001b[0m\u001b[37m\u001b[0m \u001b[1m13s\u001b[0m 59ms/step - accuracy: 0.9928 - loss: 0.0231 - val_accuracy: 0.9639 - val_loss: 0.1585\n",
      "Epoch 16/30\n",
      "\u001b[1m220/220\u001b[0m \u001b[32m━━━━━━━━━━━━━━━━━━━━\u001b[0m\u001b[37m\u001b[0m \u001b[1m13s\u001b[0m 59ms/step - accuracy: 0.9914 - loss: 0.0287 - val_accuracy: 0.9628 - val_loss: 0.1458\n",
      "Epoch 17/30\n",
      "\u001b[1m220/220\u001b[0m \u001b[32m━━━━━━━━━━━━━━━━━━━━\u001b[0m\u001b[37m\u001b[0m \u001b[1m12s\u001b[0m 56ms/step - accuracy: 0.9936 - loss: 0.0162 - val_accuracy: 0.9622 - val_loss: 0.1775\n",
      "Epoch 18/30\n",
      "\u001b[1m220/220\u001b[0m \u001b[32m━━━━━━━━━━━━━━━━━━━━\u001b[0m\u001b[37m\u001b[0m \u001b[1m12s\u001b[0m 55ms/step - accuracy: 0.9943 - loss: 0.0155 - val_accuracy: 0.9386 - val_loss: 0.2172\n",
      "Epoch 19/30\n",
      "\u001b[1m220/220\u001b[0m \u001b[32m━━━━━━━━━━━━━━━━━━━━\u001b[0m\u001b[37m\u001b[0m \u001b[1m12s\u001b[0m 55ms/step - accuracy: 0.9884 - loss: 0.0333 - val_accuracy: 0.9614 - val_loss: 0.1752\n",
      "Epoch 20/30\n",
      "\u001b[1m220/220\u001b[0m \u001b[32m━━━━━━━━━━━━━━━━━━━━\u001b[0m\u001b[37m\u001b[0m \u001b[1m13s\u001b[0m 58ms/step - accuracy: 0.9929 - loss: 0.0207 - val_accuracy: 0.9628 - val_loss: 0.1675\n",
      "Epoch 21/30\n",
      "\u001b[1m220/220\u001b[0m \u001b[32m━━━━━━━━━━━━━━━━━━━━\u001b[0m\u001b[37m\u001b[0m \u001b[1m12s\u001b[0m 56ms/step - accuracy: 0.9945 - loss: 0.0168 - val_accuracy: 0.9616 - val_loss: 0.2090\n",
      "Epoch 22/30\n",
      "\u001b[1m220/220\u001b[0m \u001b[32m━━━━━━━━━━━━━━━━━━━━\u001b[0m\u001b[37m\u001b[0m \u001b[1m13s\u001b[0m 58ms/step - accuracy: 0.9924 - loss: 0.0217 - val_accuracy: 0.9579 - val_loss: 0.1766\n",
      "Epoch 23/30\n",
      "\u001b[1m220/220\u001b[0m \u001b[32m━━━━━━━━━━━━━━━━━━━━\u001b[0m\u001b[37m\u001b[0m \u001b[1m13s\u001b[0m 57ms/step - accuracy: 0.9935 - loss: 0.0162 - val_accuracy: 0.9614 - val_loss: 0.2272\n",
      "Epoch 24/30\n",
      "\u001b[1m220/220\u001b[0m \u001b[32m━━━━━━━━━━━━━━━━━━━━\u001b[0m\u001b[37m\u001b[0m \u001b[1m12s\u001b[0m 55ms/step - accuracy: 0.9955 - loss: 0.0120 - val_accuracy: 0.9616 - val_loss: 0.2193\n",
      "Epoch 25/30\n",
      "\u001b[1m220/220\u001b[0m \u001b[32m━━━━━━━━━━━━━━━━━━━━\u001b[0m\u001b[37m\u001b[0m \u001b[1m12s\u001b[0m 56ms/step - accuracy: 0.9929 - loss: 0.0244 - val_accuracy: 0.9628 - val_loss: 0.1796\n",
      "Epoch 26/30\n",
      "\u001b[1m220/220\u001b[0m \u001b[32m━━━━━━━━━━━━━━━━━━━━\u001b[0m\u001b[37m\u001b[0m \u001b[1m13s\u001b[0m 60ms/step - accuracy: 0.9973 - loss: 0.0085 - val_accuracy: 0.9616 - val_loss: 0.2238\n",
      "Epoch 27/30\n",
      "\u001b[1m220/220\u001b[0m \u001b[32m━━━━━━━━━━━━━━━━━━━━\u001b[0m\u001b[37m\u001b[0m \u001b[1m13s\u001b[0m 57ms/step - accuracy: 0.9941 - loss: 0.0173 - val_accuracy: 0.9642 - val_loss: 0.1780\n",
      "Epoch 28/30\n",
      "\u001b[1m220/220\u001b[0m \u001b[32m━━━━━━━━━━━━━━━━━━━━\u001b[0m\u001b[37m\u001b[0m \u001b[1m14s\u001b[0m 63ms/step - accuracy: 0.9982 - loss: 0.0064 - val_accuracy: 0.9639 - val_loss: 0.1910\n",
      "Epoch 29/30\n",
      "\u001b[1m220/220\u001b[0m \u001b[32m━━━━━━━━━━━━━━━━━━━━\u001b[0m\u001b[37m\u001b[0m \u001b[1m13s\u001b[0m 60ms/step - accuracy: 0.9956 - loss: 0.0156 - val_accuracy: 0.9636 - val_loss: 0.1826\n",
      "Epoch 30/30\n",
      "\u001b[1m220/220\u001b[0m \u001b[32m━━━━━━━━━━━━━━━━━━━━\u001b[0m\u001b[37m\u001b[0m \u001b[1m13s\u001b[0m 58ms/step - accuracy: 0.9949 - loss: 0.0143 - val_accuracy: 0.9636 - val_loss: 0.2093\n"
     ]
    }
   ],
   "source": [
    "# Train the model\n",
    "history = model.fit(X_train, y_train, epochs=30, batch_size=64, validation_split=0.2) #last time epoch:20, batchsize:32"
   ]
  },
  {
   "cell_type": "markdown",
   "id": "f1c6102a-bb06-41da-8f3e-faee7d808951",
   "metadata": {},
   "source": [
    "# 8. Save the model"
   ]
  },
  {
   "cell_type": "code",
   "execution_count": 44,
   "id": "85b47ec9-e6c1-49d1-848b-1f740247bcd6",
   "metadata": {},
   "outputs": [],
   "source": [
    "# Save the model\n",
    "model.save('models/DeepFake_model_ver5_full.keras')"
   ]
  },
  {
   "cell_type": "markdown",
   "id": "03397f59-74fa-4a59-a37d-f52b302ea365",
   "metadata": {},
   "source": [
    "# 9. Load Model"
   ]
  },
  {
   "cell_type": "code",
   "execution_count": 26,
   "id": "ed768de2-fd3e-43fd-956a-ccd04ce7a951",
   "metadata": {},
   "outputs": [],
   "source": [
    "from tensorflow.keras.models import load_model\n",
    "\n",
    "# Load the model from Keras format\n",
    "model = load_model('models/DeepFake_model.keras')"
   ]
  },
  {
   "cell_type": "markdown",
   "id": "e958776a-5690-4a2e-8582-45ce62ad4f90",
   "metadata": {},
   "source": [
    "# 10. Evaluate the model"
   ]
  },
  {
   "cell_type": "code",
   "execution_count": 45,
   "id": "f78808ef-5104-4f8c-9968-ef56d1aace4c",
   "metadata": {},
   "outputs": [
    {
     "name": "stdout",
     "output_type": "stream",
     "text": [
      "\u001b[1m138/138\u001b[0m \u001b[32m━━━━━━━━━━━━━━━━━━━━\u001b[0m\u001b[37m\u001b[0m \u001b[1m1s\u001b[0m 10ms/step - accuracy: 0.9530 - loss: 0.2335\n",
      "Test Accuracy: 0.9611\n"
     ]
    }
   ],
   "source": [
    "# Evaluate the model on the test set\n",
    "test_loss, test_acc = model.evaluate(X_test, y_test)\n",
    "print(f'Test Accuracy: {test_acc:.4f}')"
   ]
  },
  {
   "cell_type": "code",
   "execution_count": 46,
   "id": "9ab8f031-cf71-46c6-aeb4-2bc7d82c417e",
   "metadata": {},
   "outputs": [
    {
     "name": "stdout",
     "output_type": "stream",
     "text": [
      "\u001b[1m138/138\u001b[0m \u001b[32m━━━━━━━━━━━━━━━━━━━━\u001b[0m\u001b[37m\u001b[0m \u001b[1m2s\u001b[0m 12ms/step\n"
     ]
    }
   ],
   "source": [
    "# Predict on new data\n",
    "predictions = model.predict(X_test)\n",
    "predicted_labels = (predictions > 0.5).astype(int)"
   ]
  },
  {
   "cell_type": "code",
   "execution_count": 48,
   "id": "0f79c506-63bf-47a8-b3dc-0d05865b8ad0",
   "metadata": {},
   "outputs": [],
   "source": [
    "np.set_printoptions(threshold=np.inf)"
   ]
  },
  {
   "cell_type": "code",
   "execution_count": 68,
   "id": "a1c1cd7d-6861-44d3-840f-0037e40ff6e3",
   "metadata": {
    "scrolled": true
   },
   "outputs": [
    {
     "name": "stdout",
     "output_type": "stream",
     "text": [
      "The correct is 4228 out of 4399\n"
     ]
    }
   ],
   "source": [
    "correct = 0\n",
    "for i in range(y_test.shape[0]):\n",
    "    if predicted_labels[i][0] == y_test[i]:\n",
    "        correct +=1\n",
    "\n",
    "print(\"The correct is\", correct, \"out of\", y_test.shape[0])\n",
    "   "
   ]
  },
  {
   "cell_type": "code",
   "execution_count": 59,
   "id": "b4d91535-a2c9-4f3f-a074-116c2bbc7149",
   "metadata": {
    "scrolled": true
   },
   "outputs": [
    {
     "data": {
      "text/plain": [
       "array([1, 0, 1, 0, 1, 0, 1, 1, 0, 1], dtype=int64)"
      ]
     },
     "execution_count": 59,
     "metadata": {},
     "output_type": "execute_result"
    }
   ],
   "source": [
    "y_test[20:30]"
   ]
  },
  {
   "cell_type": "code",
   "execution_count": 46,
   "id": "bbb7793c-9429-4044-b0c5-7a4272770dca",
   "metadata": {
    "scrolled": true
   },
   "outputs": [
    {
     "data": {
      "text/plain": [
       "array([1, 0, 0, 0, 1, 0, 0, 0, 1, 0, 0, 0, 0, 1, 1, 1, 0, 1, 0, 0, 1, 1,\n",
       "       0, 1, 0, 0, 0, 1, 0, 1, 1, 1, 1, 0, 1, 1, 1, 0, 0, 0, 0, 1, 0, 1,\n",
       "       0, 1, 0, 1, 0, 0, 1, 0, 0, 1, 1, 1, 0, 0, 1, 0, 1, 1, 0, 0, 0, 0,\n",
       "       0, 1, 0, 1, 1, 1, 0, 0, 1, 0, 1, 0, 1, 0, 1, 1, 0, 0, 1, 0, 0, 1,\n",
       "       1, 1, 0, 0, 0, 1, 0, 1, 0, 0, 0, 0, 1, 0, 0, 1, 0, 0, 0, 0, 0, 0,\n",
       "       0, 0, 0, 1, 1, 1, 1, 0, 0, 1, 1, 1, 0, 0, 1, 0, 1, 0, 1, 1, 0, 0,\n",
       "       1, 0, 1, 0, 1, 0, 1, 1, 1, 1, 0, 1, 1, 1, 1, 1, 0, 1, 0, 1, 1, 1,\n",
       "       1, 0, 1, 0, 0, 1, 1, 0, 1, 1, 1, 1, 1, 1, 1, 1, 1, 0, 1, 1, 1, 0,\n",
       "       1, 0, 1, 1, 0, 1, 0, 0, 1, 0, 1, 1, 1, 1, 0, 1, 0, 0, 1, 1, 0, 1,\n",
       "       0, 1, 1, 0, 1, 1, 0, 0, 1, 1, 1, 1, 1, 1, 1, 0, 0, 1, 0, 1, 0, 1,\n",
       "       1, 0, 1, 1, 1, 0, 0, 0, 0, 0, 1, 1, 0, 1, 1, 1, 0, 1, 0, 1, 1, 0,\n",
       "       0, 0, 0, 1, 1, 0, 1, 0, 1, 1, 1, 0, 0, 0, 0, 1, 0, 1, 1, 1, 0, 0,\n",
       "       1, 0, 0, 0, 1, 0, 1, 1, 1, 0, 1, 1, 1, 1, 1, 1, 1, 0, 1, 0, 1, 0,\n",
       "       0, 0, 0, 1, 1, 1, 1, 0, 1, 0, 1, 1, 0, 1, 0, 0, 1, 0, 1, 1, 0, 1,\n",
       "       0, 1, 1, 0, 1, 0, 0, 1, 1, 1, 0, 1, 0, 1, 1, 1, 1, 0, 0, 0, 1, 1,\n",
       "       1, 1, 0, 1, 1, 1, 1, 0, 1, 0, 1, 0, 1, 1, 0, 1, 1, 1, 1, 1, 1, 0,\n",
       "       0, 0, 0, 1, 1, 0, 0, 1, 0, 1, 1, 0, 1, 0, 1, 0, 0, 1, 0, 0, 1, 1,\n",
       "       1, 0, 1, 1, 1, 0, 1, 0, 1, 1, 1, 0, 1, 0, 0, 1, 1, 0, 1, 0, 1, 1,\n",
       "       1, 1, 1, 1, 1, 1, 1, 0, 1, 0, 1, 1, 1, 1, 0, 1, 0, 1, 1, 0, 1, 0,\n",
       "       0, 0, 1, 1, 0, 1, 0, 0, 1, 0, 1, 0, 0, 0, 0, 1, 0, 1, 1, 1, 1, 1,\n",
       "       1, 0, 1, 0, 0, 1, 0, 1, 0, 1, 0, 1, 1, 0, 0, 1, 0, 1, 0, 1, 1, 1,\n",
       "       1, 0, 1, 1, 0, 1, 0, 0, 0, 0, 1, 1, 1, 0, 1, 0, 1, 0, 0, 1, 0, 1,\n",
       "       1, 1, 1, 1, 1, 0, 1, 0, 1, 1, 1, 0, 0, 0, 0, 0, 0, 0, 1, 0, 1, 1,\n",
       "       0, 1, 0, 0, 0, 0, 1, 1, 0, 1, 0, 1, 0, 0, 1, 1, 0, 0, 0, 1, 1, 0,\n",
       "       0, 0, 0, 0, 1, 0, 1, 1, 0, 0, 0, 1, 0, 1, 0, 1, 1, 0, 0, 1, 0, 1,\n",
       "       0, 0, 1, 1, 0, 0, 0, 0, 0, 1, 1, 0, 1, 1, 0, 0, 0, 1, 0, 1, 1, 1,\n",
       "       0, 0, 1, 0, 0, 1, 1, 0, 1, 0, 1, 1, 1, 0, 0, 1, 1, 0, 0, 0, 0, 1,\n",
       "       0, 1, 1, 1, 1, 1, 1, 0, 1, 0, 1, 1, 1, 1, 1, 1, 0, 1, 0, 1, 0, 0,\n",
       "       0, 0, 1, 1, 1, 1, 0, 0, 1, 1, 0, 1, 0, 0, 0, 1, 0, 0, 1, 1, 1, 0,\n",
       "       0, 1, 0, 0, 0, 1, 1, 0, 0, 0, 0, 0, 1, 1, 0, 0, 1, 0, 0, 0, 0, 1,\n",
       "       0, 1, 0, 0, 0, 0, 0, 1, 1, 1, 1, 0, 0, 0, 0, 1, 0, 1, 0, 1, 1, 1,\n",
       "       0, 1, 0, 0, 1, 0, 0, 1, 0, 0, 1, 0, 0, 1, 1, 1, 0, 0, 0, 0, 0, 1,\n",
       "       0, 1, 1, 0, 1, 1, 1, 0, 1, 0, 1, 0, 1, 1, 1, 1, 1, 1, 0, 1, 1, 1,\n",
       "       0, 0, 0, 1, 1, 1, 0, 0, 0, 1, 1, 1, 0, 0, 0, 1, 1, 0, 1, 1, 0, 1,\n",
       "       1, 1, 0, 0, 0, 1, 0, 0, 1, 1, 1, 0, 0, 1, 1, 0, 1, 1, 0, 1, 1, 1,\n",
       "       1, 0, 0, 1, 1, 1, 1, 1, 1, 0, 0, 0, 0, 0, 1, 1, 0, 1, 0, 1, 1, 1,\n",
       "       1, 0, 0, 0, 1, 0, 0, 0, 0, 1, 0, 1, 0, 1, 1, 0, 0, 1, 0, 0, 0, 0,\n",
       "       1, 0, 1, 0, 1, 0, 0, 1, 0, 1, 0, 0, 0, 1, 1, 1, 1, 0, 1, 1, 0, 1,\n",
       "       0, 0, 1, 1, 1, 1, 0, 1, 1, 1, 0, 1, 0, 0, 1, 0, 0, 1, 1, 0, 1, 1,\n",
       "       1, 1, 0, 0, 0, 0, 1, 1, 0, 1, 0, 0, 0, 1, 1, 0, 0, 0, 1, 1, 1, 1,\n",
       "       1, 1, 1, 0, 1, 0, 0, 1, 0, 0, 0, 0, 1, 1, 1, 0, 0, 1, 0, 1, 0, 0,\n",
       "       0, 1, 0, 0, 1, 0, 0, 1, 1, 1, 0, 0, 1, 1, 1, 0, 0, 1, 1, 1, 0, 1,\n",
       "       1, 0, 1, 0, 0, 0, 0, 0, 1, 1, 0, 1, 0, 1, 1, 0, 0, 1, 0, 0, 1, 0,\n",
       "       0, 1, 0, 0, 1, 1, 1, 0, 0, 1, 0, 0, 0, 1, 0, 0, 0, 0, 0, 0, 0, 1,\n",
       "       1, 0, 1, 1, 0, 0, 1, 0, 1, 0, 1, 1, 0, 1, 1, 1, 1, 1, 1, 1, 1, 0,\n",
       "       0, 1, 0, 1, 1, 1, 0, 1, 1, 1, 1, 1, 1, 1, 1, 1, 1, 1, 0, 1, 1, 1,\n",
       "       1, 0, 1, 0, 0, 0, 0, 1, 0, 0, 1, 0, 1, 1, 0, 0, 0, 1, 1, 1, 0, 1,\n",
       "       0, 1, 1, 0, 0, 1, 0, 0, 1, 1, 0, 0, 1, 0, 0, 0, 0, 1, 1, 0, 1, 1,\n",
       "       0, 0, 0, 1, 0, 0, 0, 1, 0, 1, 1, 0, 1, 0, 1, 1, 1, 0, 1, 1, 0, 0,\n",
       "       1, 0, 0, 1, 1, 1, 1, 1, 0, 0, 1, 1, 1, 0, 0, 1, 1, 1, 1, 0, 0, 0,\n",
       "       1, 1, 1, 0, 1, 0, 0, 0, 1, 0, 1, 0, 1, 1, 1, 0, 0, 0, 1, 1, 1, 1,\n",
       "       0, 0, 0, 0, 0, 1, 1, 1, 1, 0, 0, 1, 1, 1, 1, 0, 0, 1, 1, 1, 1, 1,\n",
       "       1, 1, 1, 1, 0, 0, 1, 0, 0, 1, 0, 1, 0, 1, 0, 1, 0, 0, 0, 1, 0, 1,\n",
       "       0, 0, 1, 0, 0, 1, 0, 0, 0, 0, 0, 0, 0, 0, 1, 1, 1, 1, 1, 0, 1, 0,\n",
       "       1, 1, 0, 1, 0, 1, 0, 0, 0, 1, 0, 1, 0, 0, 1, 1, 0, 0, 1, 1, 0, 1,\n",
       "       1, 1, 0, 1, 0, 1, 0, 1, 0, 0, 0, 0, 0, 0, 0, 0, 0, 1, 1, 1, 1, 0,\n",
       "       0, 0, 1, 0, 0, 1, 1, 1, 1, 0, 1, 0, 0, 1, 0, 0, 1, 1, 1, 0, 0, 0,\n",
       "       1, 1, 0, 1, 0, 1, 1, 1, 0, 0, 1, 1, 1, 0, 1, 0, 1, 0, 1, 1, 1, 1,\n",
       "       1, 0, 1, 0, 0, 1, 1, 1, 1, 0, 1, 1, 0, 1, 0, 1, 1, 1, 1, 1, 1, 0,\n",
       "       1, 0, 1, 0, 0, 0, 0, 1, 0, 0, 1, 0, 0, 1, 1, 0, 0, 1, 1, 0, 0, 1,\n",
       "       0, 1, 0, 0, 0, 0, 0, 0, 0, 1, 0, 1, 1, 0, 0, 1, 1, 1, 0, 1, 0, 1,\n",
       "       1, 1, 0, 0, 0, 0, 1, 0, 0, 1, 1, 1, 1, 0, 0, 1, 1, 0, 0, 0, 1, 0,\n",
       "       0, 1, 1, 1, 1, 1, 0, 0, 0, 1, 0, 0, 0, 0, 1, 1, 0, 0, 0, 1, 1, 0,\n",
       "       1, 1, 0, 0, 1, 1, 1, 0, 0, 0, 1, 1, 0, 1, 0, 0, 0, 1, 1, 1, 1, 0,\n",
       "       1, 0, 1, 0, 1, 0, 1, 1, 1, 0, 0, 0, 1, 1, 1, 0, 1, 1, 1, 0, 1, 1,\n",
       "       0, 0, 1, 1, 0, 0, 0, 0, 0, 0, 0, 1, 0, 0, 0, 0, 1, 0, 1, 0, 1, 0,\n",
       "       1, 1, 1, 0, 1, 1, 1, 1, 0, 0, 0, 0, 0, 0, 1, 1, 0, 0, 0, 0, 0, 0,\n",
       "       1, 0, 0, 1, 0, 0, 1, 1, 0, 0, 1, 1, 1, 0, 0, 1, 0, 1, 1, 0, 0, 1,\n",
       "       0, 1, 1, 0, 0, 0, 1, 0, 0, 0, 0, 1, 1, 0, 0, 1, 0, 0, 1, 0, 0, 1,\n",
       "       1, 1, 0, 0, 1, 0, 1, 0, 0, 1, 0, 0, 0, 0, 0, 0, 1, 1, 1, 1, 1, 1,\n",
       "       0, 0, 0, 0, 0, 1, 0, 0, 1, 1, 1, 1, 1, 0, 0, 1, 0, 1, 0, 0, 1, 0,\n",
       "       0, 1, 0, 1, 0, 1, 0, 0, 0, 0, 1, 0, 1, 0, 0, 1, 1, 0, 1, 0, 0, 1,\n",
       "       0, 0, 0, 0, 0, 0, 1, 1, 1, 1, 0, 1, 0, 0, 1, 0, 1, 1, 1, 1, 0, 1,\n",
       "       1, 1, 1, 1, 0, 0, 1, 0, 1, 0, 0, 1, 0, 0, 1, 1, 1, 0, 1, 1, 0, 0,\n",
       "       1, 0, 0, 1, 1, 0, 1, 0, 0, 0, 1, 1, 0, 0, 1, 1, 1, 0, 1, 0, 0, 0,\n",
       "       1, 0, 0, 1, 1, 0, 1, 1, 0, 0, 1, 1, 1, 1, 0, 0, 1, 1, 0, 1, 0, 0,\n",
       "       0, 0, 1, 0, 0, 0, 1, 1, 1, 1, 1, 1, 0, 0, 0, 1, 1, 1, 1, 1, 0, 1,\n",
       "       1, 0, 0, 0, 1, 1, 1, 1, 0, 0, 0, 0, 0, 1, 1, 1, 1, 1, 1, 1, 0, 0,\n",
       "       0, 1, 0, 1, 0, 1, 1, 1, 0, 1, 0, 0, 0, 0, 0, 0, 1, 0, 1, 0, 1, 1,\n",
       "       0, 1, 0, 1, 1, 0, 1, 1, 1, 1, 1, 0, 1, 0, 1, 1, 1, 0, 0, 0, 0, 1,\n",
       "       0, 1, 1, 1, 0, 1, 1, 1, 1, 1, 1, 1, 0, 1, 0, 0, 0, 1, 0, 1, 0, 0,\n",
       "       0, 0, 1, 0, 1, 1, 0, 0, 1, 0, 1, 1, 1, 0, 0, 1, 0, 0, 1, 0, 0, 0,\n",
       "       1, 1, 1, 1, 0, 0, 0, 0, 0, 1, 1, 0, 0, 0, 0, 1, 0, 1, 1, 0, 0, 1,\n",
       "       1, 1, 1, 1, 1, 0, 0, 1, 1, 0, 1, 0, 0, 1, 0, 0, 1, 0, 1, 1, 1, 1,\n",
       "       1, 0, 0, 1, 0, 0, 1, 0, 1, 1, 1, 1, 1, 0, 1, 1, 0, 1, 0, 1, 0, 1,\n",
       "       0, 0, 1, 1, 1, 0, 0, 0, 0, 1, 1, 0, 1, 0, 1, 0, 1, 0, 0, 0, 1, 0,\n",
       "       1, 1, 1, 0, 0, 1, 0, 0, 1, 0, 1, 0, 1, 0, 0, 1, 1, 0, 1, 1, 1, 1,\n",
       "       0, 1, 1, 1, 1, 0, 0, 0, 1, 1, 1, 1, 1, 1, 0, 0, 0, 0, 1, 0, 0, 0,\n",
       "       0, 1, 1, 0, 0, 0, 1, 1, 1, 1, 1, 0, 0, 0, 1, 1, 0, 1, 0, 1, 1, 1,\n",
       "       1, 1, 1, 0, 0, 1, 0, 0, 0, 0, 0, 1, 0, 1, 0, 0, 1, 0, 1, 0, 1, 0,\n",
       "       1, 0, 1, 0, 1, 0, 1, 1, 1, 1, 1, 1, 0, 0, 0, 1, 1, 1, 1, 1, 0, 1,\n",
       "       0, 1, 0, 0, 0, 1, 0, 1, 1, 1, 0, 0, 1, 1, 1, 0, 0, 0, 1, 0, 0, 0,\n",
       "       1, 0, 0, 0, 1, 1, 0, 0, 1, 1, 1, 0, 1, 1, 0, 1, 0, 0, 1, 0, 1, 0,\n",
       "       1, 0, 0, 0, 0, 1, 1, 1, 0, 1, 1, 1, 1, 1, 0, 0, 1, 1, 0, 0, 1, 1,\n",
       "       0, 0, 0, 1, 0, 0, 1, 0, 0, 1, 0, 0, 0, 1, 0, 0, 1, 1, 0, 1, 1, 0,\n",
       "       1, 1, 1, 0, 0, 1, 0, 0, 0, 0, 0, 0, 0, 0, 0, 0, 1, 0, 0, 1, 0, 1,\n",
       "       1, 0, 1, 0, 1, 0, 1, 0, 0, 1, 0, 0, 1, 1, 0, 1, 1, 1, 1, 1, 1, 0,\n",
       "       0, 0, 1, 1, 0, 1, 0, 1, 1, 1, 0, 0, 1, 1, 0, 1, 1, 0, 1, 0, 0, 0,\n",
       "       1, 0, 1, 0, 1, 1, 0, 0, 1, 0, 1, 1, 0, 0, 1, 1, 1, 1, 1, 0, 1, 0,\n",
       "       1, 1, 1, 1, 1, 0, 1, 1, 0, 0, 1, 1, 0, 0, 0, 1, 1, 1, 0, 0, 1, 0,\n",
       "       1, 0, 0, 0, 1, 0, 1, 1, 1, 0, 1, 1, 1, 1, 0, 0, 0, 0, 1, 1, 0, 1,\n",
       "       1, 0, 0, 1, 0, 1, 0, 0, 0, 0, 1, 1, 0, 1, 0, 1, 1, 1, 0, 1, 1, 0,\n",
       "       1, 1, 0, 1, 1, 0, 0, 1, 1, 1, 1, 0, 1, 1, 1, 1, 0, 0, 1, 0, 0, 0,\n",
       "       0, 1, 1, 0, 1, 0, 0, 1, 0, 1, 1, 1, 0, 1, 1, 0, 1, 1, 0, 0, 0, 1,\n",
       "       0, 1, 1, 0, 1, 1, 0, 0, 1, 0, 0, 0, 1, 0, 0, 1, 1, 1, 1, 1, 1, 0,\n",
       "       1, 0, 0, 1, 0, 1, 0, 0, 0, 1, 0, 0, 1, 0, 1, 1, 1, 0, 1, 0, 1, 0,\n",
       "       1, 0, 0, 0, 1, 0, 0, 0, 1, 1, 0, 0, 0, 1, 1, 0, 0, 0, 1, 1, 0, 0,\n",
       "       1, 0, 0, 0, 0, 0, 1, 1, 0, 0, 1, 1, 0, 0, 0, 1, 0, 0, 0, 0, 1, 0,\n",
       "       0, 1, 1, 1, 1, 0, 1, 1, 1, 1, 0, 0, 0, 1, 0, 1, 1, 1, 1, 1, 1, 1,\n",
       "       1, 1, 0, 1, 1, 0, 0, 0, 1, 1, 1, 0, 1, 0, 1, 1, 1, 1, 0, 1, 0, 0,\n",
       "       0, 1, 0, 0, 0, 1, 1, 0, 0, 1, 0, 0, 1, 1, 0, 1, 1, 0, 1, 0, 1, 1,\n",
       "       1, 0, 1, 1, 1, 1, 1, 0, 1, 0, 0, 1, 0, 1, 0, 1, 0, 1, 1, 0, 0, 0,\n",
       "       1, 0, 0, 0, 0, 1, 0, 1, 0, 0, 1, 0, 1, 0, 1, 0, 0, 0, 0, 0, 1, 1,\n",
       "       1, 1, 0, 1, 0, 1, 0, 0, 0, 0, 1, 0, 0, 0, 0, 0, 1, 1, 1, 0, 0, 0,\n",
       "       1, 0, 0, 0, 0, 0, 0, 1, 0, 0, 0, 0, 1, 0, 1, 0, 1, 1, 0, 1, 1, 0,\n",
       "       1, 0, 0, 0, 1, 1, 0, 0, 0, 1, 1, 1, 0, 0, 1, 0, 1, 1, 0, 1, 0, 0,\n",
       "       0, 1, 1, 0, 0, 1, 1, 0, 0, 1, 1, 0, 1, 0, 0, 1, 1, 1, 0, 0, 1, 0,\n",
       "       0, 1, 0, 0, 0, 0, 0, 1, 1, 1, 0, 0, 1, 0, 0, 1, 1, 1, 0, 1, 1, 1,\n",
       "       1, 1, 1, 0, 0, 1, 1, 0, 0, 1, 1, 1, 1, 1, 1, 1, 1, 0, 1, 1, 1, 1,\n",
       "       0, 1, 1, 0, 0, 1, 1, 1, 0, 1, 0, 0, 1, 1, 0, 0, 1, 1, 0, 1, 1, 0,\n",
       "       0, 0, 1, 0, 1, 1, 1, 1, 1, 1, 1, 1, 1, 0, 1, 0, 0, 1, 0, 1, 0, 0,\n",
       "       0, 0, 0, 1, 1, 0, 1, 1, 0, 1, 0, 0, 0, 1, 0, 0, 0, 0, 1, 0, 0, 1,\n",
       "       0, 0, 1, 0, 1, 1, 0, 0, 1, 1, 0, 0, 0, 1, 0, 1, 1, 1, 0, 0, 1, 1,\n",
       "       0, 0, 1, 1, 0, 1, 0, 1, 1, 1, 0, 1, 1, 0, 1, 0, 1, 1, 1, 0, 1, 1,\n",
       "       0, 0, 0, 0, 1, 1, 1, 0, 1, 1, 1, 1, 0, 1, 0, 0, 1, 0, 0, 1, 0, 0,\n",
       "       1, 1, 1, 1, 0, 0, 1, 0, 1, 0, 0, 0, 1, 1, 1, 0, 0, 1, 0, 1, 0, 1,\n",
       "       0, 0, 0, 0, 0, 1, 1, 1, 0, 0, 1, 1, 1, 0, 0, 1, 0, 0, 0, 0, 0, 1,\n",
       "       1, 0, 0, 0, 0, 1, 1, 1, 0, 0, 0, 0, 0, 0, 1, 0, 1, 1, 0, 0, 0, 0,\n",
       "       1, 1, 1, 1, 0, 1, 1, 0, 0, 0, 0, 1, 0, 1, 1, 1, 1, 0, 1, 1, 1, 1,\n",
       "       1, 0, 1, 0, 0, 1, 1, 0, 0, 1, 0, 1, 0, 1, 1, 0, 1, 0, 1, 0, 0, 1,\n",
       "       0, 1, 1, 0, 1, 1, 0, 1, 1, 1, 0, 1, 0, 0, 0, 1, 1, 0, 1, 1, 0, 0,\n",
       "       1, 1, 1, 1, 0, 0, 0, 1, 1, 1, 0, 0, 1, 0, 1, 0, 1, 0, 1, 1, 1, 1,\n",
       "       0, 0, 1, 0, 0, 0, 0, 0, 1, 0, 1, 1, 1, 1, 1, 1, 1, 0, 0, 1, 1, 0,\n",
       "       0, 0, 1, 0, 1, 1, 0, 1, 0, 0, 0, 1, 1, 1, 0, 1, 0, 0, 0, 0, 0, 1,\n",
       "       0, 1, 1, 0, 0, 1, 0, 1, 1, 1, 1, 0, 1, 0, 1, 0, 1, 0, 1, 1, 0, 1,\n",
       "       1, 1, 0, 1, 1, 0, 1, 1, 1, 0, 1, 0, 1, 0, 0, 1, 0, 1, 0, 0, 0, 0,\n",
       "       1, 0, 0, 1, 1, 1, 0, 1, 1, 1, 1, 0, 1, 1, 0, 0, 1, 0, 0, 1, 0, 0,\n",
       "       1, 1, 0, 0, 0, 1, 1, 0, 1, 0, 0, 0, 0, 0, 1, 1, 1, 0, 0, 0, 0, 1,\n",
       "       0, 0, 0, 1, 1, 1, 0, 0, 0, 1, 1, 0, 1, 1, 1, 1, 0, 0, 1, 0, 1, 1,\n",
       "       1, 1, 1, 0, 0, 0, 0, 1, 0, 0, 0, 1, 1, 0, 0, 0, 0, 0, 0, 1, 1, 1,\n",
       "       0, 1, 1, 1, 0, 0, 1, 1, 0, 1, 0, 0, 0, 1, 1, 0, 0, 1, 0, 0, 0, 1,\n",
       "       1, 1, 0, 1, 1, 1, 0, 0, 0, 0, 0, 1, 1, 0, 1, 0, 1, 1, 0, 1, 1, 0,\n",
       "       0, 0, 0, 0, 0, 1, 0, 0, 0, 0, 1, 1, 1, 0, 1, 0, 1, 1, 1, 0, 1, 1,\n",
       "       1, 1, 0, 1, 1, 0, 1, 0, 1, 1, 1, 1, 1, 0, 0, 0, 0, 1, 0, 0, 1, 1,\n",
       "       0, 0, 1, 1, 1, 0, 0, 0, 0, 0, 1, 0, 0, 0, 0, 0, 0, 0, 1, 1, 0, 0,\n",
       "       0, 1, 1, 0, 0, 0, 0, 1, 0, 1, 0, 1, 1, 1, 1, 0, 0, 0, 1, 1, 1, 0,\n",
       "       1, 1, 0, 0, 1, 1, 1, 0, 0, 0, 0, 1, 0, 1, 0, 1, 1, 0, 0, 1, 1, 1,\n",
       "       0, 1, 0, 1, 0, 1, 0, 1, 0, 0, 1, 1, 0, 0, 1, 1, 0, 1, 0, 1, 1, 1,\n",
       "       1, 0, 0, 0, 0, 1, 1, 0, 1, 0, 0, 0, 1, 1, 1, 0, 0, 1, 1, 0, 0, 0,\n",
       "       0, 0, 1, 0, 1, 0, 1, 0, 1, 0, 0, 1, 1, 1, 0, 0, 1, 1, 0, 0, 1, 0,\n",
       "       0, 1, 0, 0, 1, 0, 1, 1, 1, 0, 1, 1, 0, 1, 0, 1, 0, 0, 0, 1, 1, 0,\n",
       "       0, 0, 1, 1, 1, 0, 0, 0, 0, 1, 0, 1, 1, 1, 1, 0, 1, 0, 0, 0, 0, 0,\n",
       "       1, 0, 1, 0, 1, 1, 0, 1, 0, 0, 0, 1, 0, 0, 1, 1, 0, 0, 0, 1, 0, 0,\n",
       "       1, 1, 0, 0, 1, 0, 0, 1, 0, 0, 0, 1, 0, 0, 0, 0, 1, 0, 0, 0, 1, 0,\n",
       "       0, 0, 0, 0, 1, 0, 0, 1, 1, 0, 1, 0, 1, 0, 1, 1, 1, 0, 0, 1, 0, 1,\n",
       "       1, 1, 0, 0, 1, 0, 1, 1, 0, 0, 0, 0, 0, 0, 0, 0, 0, 1, 0, 0, 0, 1,\n",
       "       0, 0, 0, 0, 0, 1, 0, 1, 1, 0, 0, 0, 0, 0, 1, 1, 1, 0, 1, 0, 0, 0,\n",
       "       0, 1, 0, 0, 1, 0, 0, 0, 1, 0, 0, 1, 1, 1, 1, 1, 0, 1, 1, 0, 0, 0,\n",
       "       0, 0, 0, 0, 1, 0, 1, 0, 0, 1, 0, 1, 0, 0, 1, 1, 0, 0, 1, 1, 1, 1,\n",
       "       0, 1, 0, 1, 1, 1, 0, 1, 0, 1, 0, 0, 1, 0, 0, 1, 0, 1, 0, 1, 0, 0,\n",
       "       0, 0, 1, 0, 0, 0, 1, 1, 1, 0, 1, 1, 0, 1, 0, 1, 0, 0, 0, 1, 0, 1,\n",
       "       0, 0, 1, 1, 1, 1, 0, 0, 1, 1, 0, 0, 0, 1, 1, 1, 1, 1, 0, 0, 0, 1,\n",
       "       1, 0, 1, 0, 0, 0, 1, 0, 0, 1, 1, 0, 1, 1, 1, 0, 1, 0, 0, 1, 1, 1,\n",
       "       0, 1, 1, 0, 0, 0, 0, 1, 0, 0, 0, 0, 0, 1, 1, 0, 1, 0, 0, 0, 0, 1,\n",
       "       0, 1, 0, 0, 1, 1, 0, 1, 1, 0, 1, 1, 0, 1, 1, 0, 0, 0, 0, 1, 1, 0,\n",
       "       1, 0, 1, 0, 1, 0, 0, 0, 0, 0, 1, 1, 0, 0, 0, 0, 0, 0, 1, 1, 1, 0,\n",
       "       0, 0, 0, 1, 0, 1, 1, 1], dtype=int64)"
      ]
     },
     "execution_count": 46,
     "metadata": {},
     "output_type": "execute_result"
    }
   ],
   "source": [
    "y_test"
   ]
  },
  {
   "cell_type": "markdown",
   "id": "d5dce465-bf33-4d62-a536-ace2cd59653f",
   "metadata": {},
   "source": [
    "# Test single audio file"
   ]
  },
  {
   "cell_type": "code",
   "execution_count": 75,
   "id": "abfa83a6-6e97-4a39-899c-b3b07c18e41e",
   "metadata": {},
   "outputs": [],
   "source": [
    "single_mfcc = pd.read_csv('result\\deepfake_detection\\\\tests\\human_t1.csv') #Human\n",
    "# single_mfcc = pd.read_csv('result\\human_test1.csv') #Human\n",
    "# single_mfcc = pd.read_csv('result\\human_test2.csv') #Human\n",
    "# mfcc_features = pd.read_csv('result\\synthetic_mfcc_features.csv') #AI\n",
    "# single_mfcc = pd.read_csv('result\\synthetic_test.csv') #AI\n",
    "# single_mfcc = pd.read_csv('result\\synthetic_test1.csv') #AI\n",
    "\n",
    "\n",
    "single_mfcc = single_mfcc.drop(columns=['file_name']).values\n",
    "single_reshaped = scaler.transform(single_mfcc)\n",
    "num_features, num_timesteps = single_reshaped.shape\n",
    "single_reshaped = single_reshaped.reshape(1, num_timesteps, num_features, 1)\n"
   ]
  },
  {
   "cell_type": "code",
   "execution_count": 76,
   "id": "fdf222d8-ff90-4f4b-9d4a-e8b647449a11",
   "metadata": {},
   "outputs": [
    {
     "data": {
      "text/plain": [
       "(1, 387, 12, 1)"
      ]
     },
     "execution_count": 76,
     "metadata": {},
     "output_type": "execute_result"
    }
   ],
   "source": [
    "single_reshaped.shape"
   ]
  },
  {
   "cell_type": "code",
   "execution_count": 235,
   "id": "3eb5714c-1836-4cec-acac-17145fde430e",
   "metadata": {
    "scrolled": true
   },
   "outputs": [
    {
     "data": {
      "text/plain": [
       "array([[[[-0.52566374]],\n",
       "\n",
       "        [[-1.38575664]],\n",
       "\n",
       "        [[ 1.24422531]],\n",
       "\n",
       "        [[ 0.44236354]],\n",
       "\n",
       "        [[-0.06504654]],\n",
       "\n",
       "        [[ 1.21488421]],\n",
       "\n",
       "        [[ 0.81066865]],\n",
       "\n",
       "        [[ 0.67750978]],\n",
       "\n",
       "        [[ 0.40963173]],\n",
       "\n",
       "        [[ 1.16067312]],\n",
       "\n",
       "        [[-1.54130898]],\n",
       "\n",
       "        [[ 1.8643635 ]],\n",
       "\n",
       "        [[-1.66301996]],\n",
       "\n",
       "        [[-0.29361171]],\n",
       "\n",
       "        [[-0.457943  ]],\n",
       "\n",
       "        [[ 0.09553727]],\n",
       "\n",
       "        [[ 0.04823135]],\n",
       "\n",
       "        [[ 0.30871897]],\n",
       "\n",
       "        [[ 0.24404607]],\n",
       "\n",
       "        [[ 0.28112363]],\n",
       "\n",
       "        [[-0.24812919]],\n",
       "\n",
       "        [[ 0.54499676]],\n",
       "\n",
       "        [[ 0.16674598]],\n",
       "\n",
       "        [[ 0.12575794]],\n",
       "\n",
       "        [[ 0.24334802]],\n",
       "\n",
       "        [[ 0.30678597]],\n",
       "\n",
       "        [[-0.26498924]],\n",
       "\n",
       "        [[ 0.3434298 ]],\n",
       "\n",
       "        [[ 0.43009676]],\n",
       "\n",
       "        [[-0.38670618]],\n",
       "\n",
       "        [[-0.00458836]],\n",
       "\n",
       "        [[-0.22295196]],\n",
       "\n",
       "        [[ 0.23925935]],\n",
       "\n",
       "        [[ 0.05358245]],\n",
       "\n",
       "        [[ 0.20162591]],\n",
       "\n",
       "        [[-0.10896618]],\n",
       "\n",
       "        [[ 0.37914772]],\n",
       "\n",
       "        [[ 0.01187473]],\n",
       "\n",
       "        [[-0.74732455]]]])"
      ]
     },
     "execution_count": 235,
     "metadata": {},
     "output_type": "execute_result"
    }
   ],
   "source": [
    "single_reshaped"
   ]
  },
  {
   "cell_type": "code",
   "execution_count": 166,
   "id": "cb7c823a-9cf9-45f3-944a-30f6c8af01b8",
   "metadata": {},
   "outputs": [],
   "source": [
    "testing_reshape = X_test[3].reshape(1, 39, 1, 1)\n"
   ]
  },
  {
   "cell_type": "code",
   "execution_count": 167,
   "id": "65691059-e397-42f7-8972-33870ecb86d3",
   "metadata": {},
   "outputs": [
    {
     "data": {
      "text/plain": [
       "(1, 39, 1, 1)"
      ]
     },
     "execution_count": 167,
     "metadata": {},
     "output_type": "execute_result"
    }
   ],
   "source": [
    "testing_reshape.shape"
   ]
  },
  {
   "cell_type": "code",
   "execution_count": 168,
   "id": "38ab6a4f-00f0-48e0-bd29-86f6cf14e842",
   "metadata": {
    "scrolled": true
   },
   "outputs": [
    {
     "data": {
      "text/plain": [
       "array([[[[ 1.52044558]],\n",
       "\n",
       "        [[-0.99500722]],\n",
       "\n",
       "        [[-2.46341699]],\n",
       "\n",
       "        [[ 0.1259247 ]],\n",
       "\n",
       "        [[-2.23694097]],\n",
       "\n",
       "        [[-1.09268545]],\n",
       "\n",
       "        [[ 0.37536911]],\n",
       "\n",
       "        [[ 1.29887817]],\n",
       "\n",
       "        [[-1.6565876 ]],\n",
       "\n",
       "        [[ 1.29467915]],\n",
       "\n",
       "        [[-2.16612604]],\n",
       "\n",
       "        [[ 0.63246606]],\n",
       "\n",
       "        [[ 0.05123381]],\n",
       "\n",
       "        [[ 3.26052089]],\n",
       "\n",
       "        [[-6.15896843]],\n",
       "\n",
       "        [[-3.29302029]],\n",
       "\n",
       "        [[ 8.28531424]],\n",
       "\n",
       "        [[-4.20158752]],\n",
       "\n",
       "        [[ 3.50296779]],\n",
       "\n",
       "        [[-2.20958005]],\n",
       "\n",
       "        [[-0.86359295]],\n",
       "\n",
       "        [[-0.82097702]],\n",
       "\n",
       "        [[ 5.02787298]],\n",
       "\n",
       "        [[-5.69379886]],\n",
       "\n",
       "        [[-1.64914101]],\n",
       "\n",
       "        [[-0.26936765]],\n",
       "\n",
       "        [[-1.79474945]],\n",
       "\n",
       "        [[ 3.24646681]],\n",
       "\n",
       "        [[-0.37805481]],\n",
       "\n",
       "        [[-5.74697565]],\n",
       "\n",
       "        [[ 2.82091601]],\n",
       "\n",
       "        [[-1.34215205]],\n",
       "\n",
       "        [[ 3.31465366]],\n",
       "\n",
       "        [[-1.67577261]],\n",
       "\n",
       "        [[ 1.37227534]],\n",
       "\n",
       "        [[-1.37274087]],\n",
       "\n",
       "        [[ 2.83909983]],\n",
       "\n",
       "        [[ 3.57051811]],\n",
       "\n",
       "        [[-8.33654357]]]])"
      ]
     },
     "execution_count": 168,
     "metadata": {},
     "output_type": "execute_result"
    }
   ],
   "source": [
    "testing_reshape"
   ]
  },
  {
   "cell_type": "code",
   "execution_count": 236,
   "id": "783a51b5-026c-4b2d-af14-5c67693ea223",
   "metadata": {},
   "outputs": [
    {
     "name": "stdout",
     "output_type": "stream",
     "text": [
      "\u001b[1m1/1\u001b[0m \u001b[32m━━━━━━━━━━━━━━━━━━━━\u001b[0m\u001b[37m\u001b[0m \u001b[1m0s\u001b[0m 27ms/step\n"
     ]
    }
   ],
   "source": [
    "# print(model.predict(mfcc_features_reshaped))\n",
    "testing = model.predict(single_reshaped)\n",
    "predicted_test = (testing > 0.5).astype(int)"
   ]
  },
  {
   "cell_type": "code",
   "execution_count": 237,
   "id": "70fbfbde-d59e-4f4b-8be3-f72ac5fa30c0",
   "metadata": {},
   "outputs": [
    {
     "name": "stdout",
     "output_type": "stream",
     "text": [
      "[[0.7033467]]\n",
      "[[1]]\n"
     ]
    }
   ],
   "source": [
    "print(testing)\n",
    "print(predicted_test)"
   ]
  },
  {
   "cell_type": "code",
   "execution_count": 88,
   "id": "eaa596d2-4a29-41d0-a47b-dc46c8592a5b",
   "metadata": {},
   "outputs": [],
   "source": [
    "test_sample = X_test[0].reshape(1, X_test.shape[1], 1, 1)\n",
    "# print(model.predict(test_sample))"
   ]
  },
  {
   "cell_type": "code",
   "execution_count": 89,
   "id": "286422a8-fc43-4121-b5ec-db5546ee3960",
   "metadata": {},
   "outputs": [
    {
     "data": {
      "text/plain": [
       "(1, 39, 1, 1)"
      ]
     },
     "execution_count": 89,
     "metadata": {},
     "output_type": "execute_result"
    }
   ],
   "source": [
    "test_sample.shape"
   ]
  },
  {
   "cell_type": "code",
   "execution_count": 296,
   "id": "d8f930c0-2d0c-4432-aa48-34f2a73ffe1d",
   "metadata": {},
   "outputs": [
    {
     "name": "stdout",
     "output_type": "stream",
     "text": [
      "[1.]\n",
      "The audio file is likely a legitimate human voice.\n"
     ]
    }
   ],
   "source": [
    "print(prediction[0])\n",
    "if prediction[0] > 0.5:\n",
    "    print(\"The audio file is likely a legitimate human voice.\")\n",
    "else:\n",
    "    print(\"The audio file is likely AI-generated (deep fake).\")\n"
   ]
  },
  {
   "cell_type": "code",
   "execution_count": null,
   "id": "a754e977-f3e0-41fc-a5f2-800e2de19329",
   "metadata": {},
   "outputs": [],
   "source": []
  }
 ],
 "metadata": {
  "kernelspec": {
   "display_name": "Python (venvAudio)",
   "language": "python",
   "name": "pythonaudio"
  },
  "language_info": {
   "codemirror_mode": {
    "name": "ipython",
    "version": 3
   },
   "file_extension": ".py",
   "mimetype": "text/x-python",
   "name": "python",
   "nbconvert_exporter": "python",
   "pygments_lexer": "ipython3",
   "version": "3.11.2"
  }
 },
 "nbformat": 4,
 "nbformat_minor": 5
}
