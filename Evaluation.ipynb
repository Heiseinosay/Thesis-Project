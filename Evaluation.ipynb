{
 "cells": [
  {
   "cell_type": "markdown",
   "id": "1aba3cf9-a0f0-41b0-9fb7-758b78f454cf",
   "metadata": {},
   "source": [
    "# 1. Define imports"
   ]
  },
  {
   "cell_type": "code",
   "execution_count": 1,
   "id": "5d64cdbe-9bdd-4421-8140-9af88f9b0b38",
   "metadata": {},
   "outputs": [],
   "source": [
    "import librosa\n",
    "import librosa.display\n",
    "import IPython.display as ipd\n",
    "import numpy as np\n",
    "import csv\n",
    "import pandas as pd\n",
    "from tensorflow.keras.models import load_model\n",
    "import joblib"
   ]
  },
  {
   "cell_type": "markdown",
   "id": "a46792fc-7670-4026-b84e-2f17bbb47f77",
   "metadata": {},
   "source": [
    "# 2. Load Model "
   ]
  },
  {
   "cell_type": "code",
   "execution_count": 2,
   "id": "459a5706-9566-45ea-b11e-5c12dcd9e3be",
   "metadata": {},
   "outputs": [],
   "source": [
    "# Deepfake Detection\n",
    "df_model = load_model('models/DeepFake_model_ver5_full.keras')"
   ]
  },
  {
   "cell_type": "code",
   "execution_count": 3,
   "id": "ffc3ac5e-be88-41d6-9359-e7054cde56db",
   "metadata": {},
   "outputs": [
    {
     "name": "stdout",
     "output_type": "stream",
     "text": [
      "<Sequential name=sequential_1, built=True>\n"
     ]
    }
   ],
   "source": [
    "print(df_model)"
   ]
  },
  {
   "cell_type": "code",
   "execution_count": 5,
   "id": "c80c8da5-c98a-4ced-9178-2350fbd5f4a9",
   "metadata": {},
   "outputs": [],
   "source": [
    "# Speaker Identification\n",
    "si_model = load_model('models/speaker_identification_model_ver4_segment.keras')"
   ]
  },
  {
   "cell_type": "code",
   "execution_count": 6,
   "id": "d4425621-af05-4e35-b4c2-0b88dc3632f8",
   "metadata": {},
   "outputs": [
    {
     "name": "stdout",
     "output_type": "stream",
     "text": [
      "<Sequential name=sequential, built=True>\n"
     ]
    }
   ],
   "source": [
    "print(si_model)"
   ]
  },
  {
   "cell_type": "markdown",
   "id": "abaf6f43-b3f0-4be0-a428-59c9a230c07a",
   "metadata": {},
   "source": [
    "# 3. Evaluation"
   ]
  },
  {
   "cell_type": "code",
   "execution_count": 7,
   "id": "cb3620a9-a422-4987-a47f-1c20a82c626e",
   "metadata": {},
   "outputs": [],
   "source": [
    "def reshape_segment(segment_features):\n",
    "    # Load the scaler\n",
    "    df_scaler = joblib.load('scalers/df_scaler.pkl') # Deepfake Detection\n",
    "    si_scaler = joblib.load('scalers/vr_scaler.pkl') # Speaker Identification\n",
    "    \n",
    "    # Scale the features using the pre-fitted scaler\n",
    "    # reshaped = df_scaler.transform([segment_features])  # Deepfake Detection\n",
    "    reshaped = si_scaler.transform([segment_features])  # Speaker Identification\n",
    "    \n",
    "    # Reshape to match the model's input shape (num_features, 1, 1)\n",
    "    reshaped = reshaped.reshape(1, reshaped.shape[1], 1, 1)  # Shape: (1, num_features, 1, 1)\n",
    "    print(reshaped.shape)\n",
    "    return reshaped"
   ]
  },
  {
   "cell_type": "code",
   "execution_count": 36,
   "id": "c35795a9-12a1-47ad-9578-8133112654cf",
   "metadata": {},
   "outputs": [],
   "source": [
    "def evaluate_segments(segment_data):\n",
    "    confidence_scores = []  # Store the scores for each segment\n",
    "    # iterate each row\n",
    "    for i in range(0, segment_data.shape[0]):\n",
    "        # Reshape the segment features to match the model's input\n",
    "        segment_row = segment_data[i]\n",
    "        \n",
    "        reshaped_segment = reshape_segment(segment_row)\n",
    "        \n",
    "        # Predict the confidence score using the model\n",
    "        # predictions = df_model.predict(reshaped_segment) # Deepfake Detection\n",
    "        predictions = si_model.predict(reshaped_segment) # Speaker Identification\n",
    "    \n",
    "        confidence = predictions[0][0]\n",
    "        \n",
    "        # Store the confidence score\n",
    "        confidence_scores.append(confidence)\n",
    "\n",
    "    return confidence_scores\n"
   ]
  },
  {
   "cell_type": "markdown",
   "id": "2e8c4620-eb42-4ead-b7cd-578a023c2690",
   "metadata": {},
   "source": [
    "# 4. Load single data"
   ]
  },
  {
   "cell_type": "code",
   "execution_count": 33,
   "id": "2d165f33-c399-4a12-907f-448d3699a00f",
   "metadata": {
    "scrolled": true
   },
   "outputs": [
    {
     "name": "stdout",
     "output_type": "stream",
     "text": [
      "              file_name  mfcc_feature1  mfcc_feature2  mfcc_feature3  \\\n",
      "0  spanish86_cloned.mp3     -231.05008     166.200260      -3.426227   \n",
      "1  spanish86_cloned.mp3     -245.75290     125.308860     -12.399857   \n",
      "2  spanish86_cloned.mp3     -271.77322     168.020300     -12.131187   \n",
      "3  spanish86_cloned.mp3     -263.93347     162.262500      -2.011666   \n",
      "4  spanish86_cloned.mp3     -279.63278     103.469950      -9.841961   \n",
      "5  spanish86_cloned.mp3     -244.67416     121.952675     -10.998677   \n",
      "6  spanish86_cloned.mp3     -246.63835     142.049670      -1.761654   \n",
      "7  spanish86_cloned.mp3     -217.77368     117.173830     -14.918809   \n",
      "\n",
      "   mfcc_feature4  mfcc_feature5  mfcc_feature6  mfcc_feature7  mfcc_feature8  \\\n",
      "0      15.043535     -19.883448       1.742834      -9.552059     -17.607178   \n",
      "1      45.833702      -9.979475       3.966356     -20.320597      -9.616380   \n",
      "2       4.511300       0.471838      -3.502837     -13.341041     -18.732885   \n",
      "3      22.318602      -0.007543     -10.212996     -16.459192     -16.724295   \n",
      "4      51.309906       2.003433       5.036062     -18.152039      -7.015474   \n",
      "5      35.933950     -15.127015       1.337652     -22.321270      -8.529073   \n",
      "6      24.780602     -23.993720       2.268100     -14.543300      -5.384193   \n",
      "7      70.575760       1.392909       6.694821     -27.320831      -7.347052   \n",
      "\n",
      "   mfcc_feature9  ...  SpectralBandwidth78  SpectralBandwidth79  \\\n",
      "0     -24.531784  ...          1017.515429           806.825859   \n",
      "1     -18.061563  ...          1995.772114          2095.452162   \n",
      "2     -15.916804  ...           814.657783           851.719267   \n",
      "3     -23.227064  ...           872.794455           916.091510   \n",
      "4     -18.675173  ...          2293.047828          2108.952560   \n",
      "5     -15.471360  ...          2041.644372          1920.728015   \n",
      "6     -16.147130  ...          2785.939695          2731.232126   \n",
      "7     -25.674574  ...           710.993049           731.645919   \n",
      "\n",
      "   SpectralBandwidth80  SpectralBandwidth81  SpectralBandwidth82  \\\n",
      "0           691.715818           625.071788           597.823146   \n",
      "1          2527.546035          2640.853985          2569.645871   \n",
      "2           896.894186           818.411192           746.647234   \n",
      "3          1073.594447          1606.957688          1991.285311   \n",
      "4          2409.285201          2381.882879          2220.945653   \n",
      "5          1803.613372          1764.969481          1817.625261   \n",
      "6          2672.149957          2718.745636          2728.325984   \n",
      "7           767.980480           894.445030           991.235160   \n",
      "\n",
      "   SpectralBandwidth83  SpectralBandwidth84  SpectralBandwidth85  \\\n",
      "0           614.096676           655.832795           730.476894   \n",
      "1          1094.860920           879.642129           983.160851   \n",
      "2           851.012239           827.477343           866.972350   \n",
      "3          1564.401557          1605.050412          1923.249492   \n",
      "4          1443.457648          1514.361818          1433.421802   \n",
      "5          1715.693881          1920.071197          2101.195351   \n",
      "6          2706.660431          2703.214017          2335.351105   \n",
      "7          1268.873690          2146.027051          1928.833445   \n",
      "\n",
      "   SpectralBandwidth86  SpectralBandwidth87  \n",
      "0           851.638607          2023.321661  \n",
      "1          1111.472919          1696.678663  \n",
      "2           680.731068          2433.726079  \n",
      "3           752.191963          1209.218110  \n",
      "4          1443.711705          1595.033674  \n",
      "5          2375.831264          2441.728619  \n",
      "6           975.275049          2596.654650  \n",
      "7          1745.273446          1840.158928  \n",
      "\n",
      "[8 rows x 388 columns]\n",
      "(1, 387, 1, 1)\n",
      "\u001b[1m1/1\u001b[0m \u001b[32m━━━━━━━━━━━━━━━━━━━━\u001b[0m\u001b[37m\u001b[0m \u001b[1m0s\u001b[0m 61ms/step\n",
      "(1, 387, 1, 1)\n",
      "\u001b[1m1/1\u001b[0m \u001b[32m━━━━━━━━━━━━━━━━━━━━\u001b[0m\u001b[37m\u001b[0m \u001b[1m0s\u001b[0m 52ms/step\n",
      "(1, 387, 1, 1)\n",
      "\u001b[1m1/1\u001b[0m \u001b[32m━━━━━━━━━━━━━━━━━━━━\u001b[0m\u001b[37m\u001b[0m \u001b[1m0s\u001b[0m 39ms/step\n",
      "(1, 387, 1, 1)\n",
      "\u001b[1m1/1\u001b[0m \u001b[32m━━━━━━━━━━━━━━━━━━━━\u001b[0m\u001b[37m\u001b[0m \u001b[1m0s\u001b[0m 48ms/step\n",
      "(1, 387, 1, 1)\n",
      "\u001b[1m1/1\u001b[0m \u001b[32m━━━━━━━━━━━━━━━━━━━━\u001b[0m\u001b[37m\u001b[0m \u001b[1m0s\u001b[0m 50ms/step\n",
      "(1, 387, 1, 1)\n",
      "\u001b[1m1/1\u001b[0m \u001b[32m━━━━━━━━━━━━━━━━━━━━\u001b[0m\u001b[37m\u001b[0m \u001b[1m0s\u001b[0m 45ms/step\n",
      "(1, 387, 1, 1)\n",
      "\u001b[1m1/1\u001b[0m \u001b[32m━━━━━━━━━━━━━━━━━━━━\u001b[0m\u001b[37m\u001b[0m \u001b[1m0s\u001b[0m 47ms/step\n",
      "(1, 387, 1, 1)\n",
      "\u001b[1m1/1\u001b[0m \u001b[32m━━━━━━━━━━━━━━━━━━━━\u001b[0m\u001b[37m\u001b[0m \u001b[1m0s\u001b[0m 45ms/step\n"
     ]
    }
   ],
   "source": [
    "# Deepfake Detection test\n",
    "# segment_data = pd.read_csv('result\\deepfake_detection\\\\tests\\human_t1.csv') # human\n",
    "# segment_data = pd.read_csv('result\\deepfake_detection\\\\tests\\human_t2.csv') # human\n",
    "# segment_data = pd.read_csv('result\\deepfake_detection\\\\tests\\synthetic_t1.csv') # synthetic\n",
    "segment_data = pd.read_csv('result\\deepfake_detection\\\\tests\\synthetic_t2.csv') # synthetic\n",
    "\n",
    "# Speaker Identification test\n",
    "# segment_data = pd.read_csv('result\\deepfake_detection\\\\tests\\human_t2.csv') # same\n",
    "# segment_data = pd.read_csv('result\\\\voice_recognition\\\\test_full\\\\vr_full_segment_same.csv') # same\n",
    "\n",
    "\"\"\"\n",
    "\n",
    "Output: \n",
    "Deepfake Detection = 1 Human : 0 AI\n",
    "Speaker Identification = 1 Speaker : 0 Not Speaker\n",
    "\n",
    "\"\"\"\n",
    "\n",
    "print(segment_data)\n",
    "segment_data = segment_data.drop(columns=['file_name']).values\n",
    "confidence_scores = evaluate_segments(segment_data)"
   ]
  },
  {
   "cell_type": "code",
   "execution_count": 35,
   "id": "90dde2d6-0b51-45ac-a5b5-a3af29829fbe",
   "metadata": {},
   "outputs": [
    {
     "name": "stdout",
     "output_type": "stream",
     "text": [
      "[0.9994083, 0.4171299, 0.99999446, 0.9999987, 1.2969033e-07, 1.0, 1.0, 0.9848684]\n",
      "0.8001749863910881\n"
     ]
    }
   ],
   "source": [
    "print(confidence_scores)\n",
    "\n",
    "def Average(confidence_scores): \n",
    "    return sum(confidence_scores) / len(confidence_scores) \n",
    "\n",
    "overall = Average(confidence_scores)\n",
    "print(overall)"
   ]
  },
  {
   "cell_type": "code",
   "execution_count": null,
   "id": "e05cff87-d423-404a-899c-0dab0cd2aaeb",
   "metadata": {},
   "outputs": [],
   "source": []
  },
  {
   "cell_type": "code",
   "execution_count": null,
   "id": "546342f1-5e84-4d45-a92d-019a24e9049b",
   "metadata": {},
   "outputs": [],
   "source": []
  }
 ],
 "metadata": {
  "kernelspec": {
   "display_name": "Python (venvAudio)",
   "language": "python",
   "name": "pythonaudio"
  },
  "language_info": {
   "codemirror_mode": {
    "name": "ipython",
    "version": 3
   },
   "file_extension": ".py",
   "mimetype": "text/x-python",
   "name": "python",
   "nbconvert_exporter": "python",
   "pygments_lexer": "ipython3",
   "version": "3.11.2"
  }
 },
 "nbformat": 4,
 "nbformat_minor": 5
}
