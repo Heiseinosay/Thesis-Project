{
 "cells": [
  {
   "cell_type": "code",
   "execution_count": 1,
   "id": "3ca2b4ff-fbc9-41ad-9cd1-376f821335d5",
   "metadata": {},
   "outputs": [],
   "source": [
    "import pandas as pd\n",
    "import numpy as np\n",
    "from sklearn.model_selection import train_test_split\n",
    "from sklearn.preprocessing import StandardScaler\n",
    "import joblib"
   ]
  },
  {
   "cell_type": "code",
   "execution_count": 2,
   "id": "8f3ad0d0-e068-4794-8b96-0566e58345a6",
   "metadata": {},
   "outputs": [],
   "source": [
    "# MEAN\n",
    "speaker_profile = pd.read_csv('result\\\\voice_recognition\\\\training_mean\\\\vr_speaker_mean_features.csv')"
   ]
  },
  {
   "cell_type": "code",
   "execution_count": 3,
   "id": "b33c947e-21ab-463b-9679-4b84cc4c5063",
   "metadata": {},
   "outputs": [
    {
     "data": {
      "text/html": [
       "<div>\n",
       "<style scoped>\n",
       "    .dataframe tbody tr th:only-of-type {\n",
       "        vertical-align: middle;\n",
       "    }\n",
       "\n",
       "    .dataframe tbody tr th {\n",
       "        vertical-align: top;\n",
       "    }\n",
       "\n",
       "    .dataframe thead th {\n",
       "        text-align: right;\n",
       "    }\n",
       "</style>\n",
       "<table border=\"1\" class=\"dataframe\">\n",
       "  <thead>\n",
       "    <tr style=\"text-align: right;\">\n",
       "      <th></th>\n",
       "      <th>file_name</th>\n",
       "      <th>mfcc_feature1</th>\n",
       "      <th>mfcc_feature2</th>\n",
       "      <th>mfcc_feature3</th>\n",
       "      <th>mfcc_feature4</th>\n",
       "      <th>mfcc_feature5</th>\n",
       "      <th>mfcc_feature6</th>\n",
       "      <th>mfcc_feature7</th>\n",
       "      <th>mfcc_feature8</th>\n",
       "      <th>mfcc_feature9</th>\n",
       "      <th>...</th>\n",
       "      <th>mfcc_feature34</th>\n",
       "      <th>mfcc_feature35</th>\n",
       "      <th>mfcc_feature36</th>\n",
       "      <th>mfcc_feature37</th>\n",
       "      <th>mfcc_feature38</th>\n",
       "      <th>mfcc_feature39</th>\n",
       "      <th>MeanRMS</th>\n",
       "      <th>MeanZCR</th>\n",
       "      <th>MeanSpectralCentroid</th>\n",
       "      <th>MeanSpectralBandwidth</th>\n",
       "    </tr>\n",
       "  </thead>\n",
       "  <tbody>\n",
       "    <tr>\n",
       "      <th>0</th>\n",
       "      <td>Recording1.mp3</td>\n",
       "      <td>-466.47586</td>\n",
       "      <td>113.188000</td>\n",
       "      <td>-31.554749</td>\n",
       "      <td>58.069960</td>\n",
       "      <td>12.549055</td>\n",
       "      <td>11.572303</td>\n",
       "      <td>-0.637779</td>\n",
       "      <td>-0.476538</td>\n",
       "      <td>-1.047442</td>\n",
       "      <td>...</td>\n",
       "      <td>-0.025053</td>\n",
       "      <td>-0.021559</td>\n",
       "      <td>-0.014921</td>\n",
       "      <td>-0.020318</td>\n",
       "      <td>-0.024983</td>\n",
       "      <td>-0.006847</td>\n",
       "      <td>0.016590</td>\n",
       "      <td>0.091200</td>\n",
       "      <td>1477.526239</td>\n",
       "      <td>1285.109936</td>\n",
       "    </tr>\n",
       "    <tr>\n",
       "      <th>1</th>\n",
       "      <td>Recording10.mp3</td>\n",
       "      <td>-462.36844</td>\n",
       "      <td>75.371730</td>\n",
       "      <td>-22.990372</td>\n",
       "      <td>55.777367</td>\n",
       "      <td>7.616342</td>\n",
       "      <td>18.860722</td>\n",
       "      <td>-5.601764</td>\n",
       "      <td>1.031670</td>\n",
       "      <td>0.352627</td>\n",
       "      <td>...</td>\n",
       "      <td>0.020604</td>\n",
       "      <td>0.006262</td>\n",
       "      <td>-0.013555</td>\n",
       "      <td>-0.008639</td>\n",
       "      <td>-0.011821</td>\n",
       "      <td>0.003830</td>\n",
       "      <td>0.017908</td>\n",
       "      <td>0.124919</td>\n",
       "      <td>1868.689684</td>\n",
       "      <td>1427.695075</td>\n",
       "    </tr>\n",
       "    <tr>\n",
       "      <th>2</th>\n",
       "      <td>Recording2.mp3</td>\n",
       "      <td>-494.67728</td>\n",
       "      <td>101.057550</td>\n",
       "      <td>-27.088408</td>\n",
       "      <td>46.063230</td>\n",
       "      <td>12.271044</td>\n",
       "      <td>8.745768</td>\n",
       "      <td>-2.987978</td>\n",
       "      <td>-2.950048</td>\n",
       "      <td>0.919167</td>\n",
       "      <td>...</td>\n",
       "      <td>-0.003895</td>\n",
       "      <td>-0.001905</td>\n",
       "      <td>-0.012755</td>\n",
       "      <td>-0.004770</td>\n",
       "      <td>-0.000305</td>\n",
       "      <td>0.013672</td>\n",
       "      <td>0.020544</td>\n",
       "      <td>0.077840</td>\n",
       "      <td>1396.769670</td>\n",
       "      <td>1322.673459</td>\n",
       "    </tr>\n",
       "    <tr>\n",
       "      <th>3</th>\n",
       "      <td>Recording3.mp3</td>\n",
       "      <td>-483.11258</td>\n",
       "      <td>103.349540</td>\n",
       "      <td>-18.448746</td>\n",
       "      <td>43.987610</td>\n",
       "      <td>11.716349</td>\n",
       "      <td>8.919379</td>\n",
       "      <td>-2.134769</td>\n",
       "      <td>0.029024</td>\n",
       "      <td>2.959834</td>\n",
       "      <td>...</td>\n",
       "      <td>-0.001163</td>\n",
       "      <td>-0.004468</td>\n",
       "      <td>-0.005017</td>\n",
       "      <td>0.002327</td>\n",
       "      <td>-0.000646</td>\n",
       "      <td>0.000129</td>\n",
       "      <td>0.019035</td>\n",
       "      <td>0.100713</td>\n",
       "      <td>1558.875741</td>\n",
       "      <td>1381.989533</td>\n",
       "    </tr>\n",
       "    <tr>\n",
       "      <th>4</th>\n",
       "      <td>Recording4.mp3</td>\n",
       "      <td>-467.58750</td>\n",
       "      <td>115.525540</td>\n",
       "      <td>-26.715477</td>\n",
       "      <td>44.850174</td>\n",
       "      <td>10.586900</td>\n",
       "      <td>9.302888</td>\n",
       "      <td>-3.408906</td>\n",
       "      <td>-1.295586</td>\n",
       "      <td>0.420204</td>\n",
       "      <td>...</td>\n",
       "      <td>-0.001237</td>\n",
       "      <td>0.017196</td>\n",
       "      <td>0.015745</td>\n",
       "      <td>0.000190</td>\n",
       "      <td>-0.009750</td>\n",
       "      <td>0.003944</td>\n",
       "      <td>0.017176</td>\n",
       "      <td>0.090676</td>\n",
       "      <td>1513.490433</td>\n",
       "      <td>1380.374358</td>\n",
       "    </tr>\n",
       "    <tr>\n",
       "      <th>5</th>\n",
       "      <td>Recording5.mp3</td>\n",
       "      <td>-468.93192</td>\n",
       "      <td>95.931120</td>\n",
       "      <td>-22.821474</td>\n",
       "      <td>35.816044</td>\n",
       "      <td>1.117845</td>\n",
       "      <td>4.841961</td>\n",
       "      <td>-2.747456</td>\n",
       "      <td>2.456876</td>\n",
       "      <td>-1.691102</td>\n",
       "      <td>...</td>\n",
       "      <td>0.001675</td>\n",
       "      <td>0.001273</td>\n",
       "      <td>0.002474</td>\n",
       "      <td>0.008833</td>\n",
       "      <td>0.000116</td>\n",
       "      <td>-0.001845</td>\n",
       "      <td>0.020141</td>\n",
       "      <td>0.104348</td>\n",
       "      <td>1592.569822</td>\n",
       "      <td>1468.954597</td>\n",
       "    </tr>\n",
       "    <tr>\n",
       "      <th>6</th>\n",
       "      <td>Recording6.mp3</td>\n",
       "      <td>-434.86807</td>\n",
       "      <td>112.130295</td>\n",
       "      <td>-22.810982</td>\n",
       "      <td>53.075650</td>\n",
       "      <td>12.100018</td>\n",
       "      <td>8.637113</td>\n",
       "      <td>-6.769464</td>\n",
       "      <td>1.086398</td>\n",
       "      <td>-2.606873</td>\n",
       "      <td>...</td>\n",
       "      <td>0.001338</td>\n",
       "      <td>0.007670</td>\n",
       "      <td>0.002044</td>\n",
       "      <td>0.001143</td>\n",
       "      <td>-0.006781</td>\n",
       "      <td>-0.008694</td>\n",
       "      <td>0.021101</td>\n",
       "      <td>0.083437</td>\n",
       "      <td>1493.441258</td>\n",
       "      <td>1430.868262</td>\n",
       "    </tr>\n",
       "    <tr>\n",
       "      <th>7</th>\n",
       "      <td>Recording7.mp3</td>\n",
       "      <td>-456.61258</td>\n",
       "      <td>101.399530</td>\n",
       "      <td>-14.078453</td>\n",
       "      <td>49.710340</td>\n",
       "      <td>11.470749</td>\n",
       "      <td>5.569509</td>\n",
       "      <td>-2.300609</td>\n",
       "      <td>0.427971</td>\n",
       "      <td>2.139126</td>\n",
       "      <td>...</td>\n",
       "      <td>-0.002370</td>\n",
       "      <td>-0.000991</td>\n",
       "      <td>-0.010611</td>\n",
       "      <td>-0.014083</td>\n",
       "      <td>-0.011373</td>\n",
       "      <td>0.000653</td>\n",
       "      <td>0.019141</td>\n",
       "      <td>0.080919</td>\n",
       "      <td>1378.013182</td>\n",
       "      <td>1378.983510</td>\n",
       "    </tr>\n",
       "    <tr>\n",
       "      <th>8</th>\n",
       "      <td>Recording8.mp3</td>\n",
       "      <td>-475.19067</td>\n",
       "      <td>100.311050</td>\n",
       "      <td>-12.050959</td>\n",
       "      <td>45.496830</td>\n",
       "      <td>11.391419</td>\n",
       "      <td>5.529108</td>\n",
       "      <td>-3.854567</td>\n",
       "      <td>-0.944330</td>\n",
       "      <td>-0.956235</td>\n",
       "      <td>...</td>\n",
       "      <td>-0.020397</td>\n",
       "      <td>-0.015603</td>\n",
       "      <td>-0.010603</td>\n",
       "      <td>-0.000347</td>\n",
       "      <td>-0.008924</td>\n",
       "      <td>0.004940</td>\n",
       "      <td>0.018455</td>\n",
       "      <td>0.093311</td>\n",
       "      <td>1556.366723</td>\n",
       "      <td>1455.661085</td>\n",
       "    </tr>\n",
       "    <tr>\n",
       "      <th>9</th>\n",
       "      <td>Recording9.mp3</td>\n",
       "      <td>-476.58188</td>\n",
       "      <td>94.279630</td>\n",
       "      <td>-26.243538</td>\n",
       "      <td>41.434730</td>\n",
       "      <td>5.930160</td>\n",
       "      <td>8.973958</td>\n",
       "      <td>-5.152748</td>\n",
       "      <td>-3.119601</td>\n",
       "      <td>-1.307506</td>\n",
       "      <td>...</td>\n",
       "      <td>-0.002584</td>\n",
       "      <td>0.008839</td>\n",
       "      <td>-0.007553</td>\n",
       "      <td>-0.000823</td>\n",
       "      <td>0.004018</td>\n",
       "      <td>-0.005649</td>\n",
       "      <td>0.024441</td>\n",
       "      <td>0.087714</td>\n",
       "      <td>1468.671421</td>\n",
       "      <td>1401.201102</td>\n",
       "    </tr>\n",
       "  </tbody>\n",
       "</table>\n",
       "<p>10 rows × 44 columns</p>\n",
       "</div>"
      ],
      "text/plain": [
       "         file_name  mfcc_feature1  mfcc_feature2  mfcc_feature3  \\\n",
       "0   Recording1.mp3     -466.47586     113.188000     -31.554749   \n",
       "1  Recording10.mp3     -462.36844      75.371730     -22.990372   \n",
       "2   Recording2.mp3     -494.67728     101.057550     -27.088408   \n",
       "3   Recording3.mp3     -483.11258     103.349540     -18.448746   \n",
       "4   Recording4.mp3     -467.58750     115.525540     -26.715477   \n",
       "5   Recording5.mp3     -468.93192      95.931120     -22.821474   \n",
       "6   Recording6.mp3     -434.86807     112.130295     -22.810982   \n",
       "7   Recording7.mp3     -456.61258     101.399530     -14.078453   \n",
       "8   Recording8.mp3     -475.19067     100.311050     -12.050959   \n",
       "9   Recording9.mp3     -476.58188      94.279630     -26.243538   \n",
       "\n",
       "   mfcc_feature4  mfcc_feature5  mfcc_feature6  mfcc_feature7  mfcc_feature8  \\\n",
       "0      58.069960      12.549055      11.572303      -0.637779      -0.476538   \n",
       "1      55.777367       7.616342      18.860722      -5.601764       1.031670   \n",
       "2      46.063230      12.271044       8.745768      -2.987978      -2.950048   \n",
       "3      43.987610      11.716349       8.919379      -2.134769       0.029024   \n",
       "4      44.850174      10.586900       9.302888      -3.408906      -1.295586   \n",
       "5      35.816044       1.117845       4.841961      -2.747456       2.456876   \n",
       "6      53.075650      12.100018       8.637113      -6.769464       1.086398   \n",
       "7      49.710340      11.470749       5.569509      -2.300609       0.427971   \n",
       "8      45.496830      11.391419       5.529108      -3.854567      -0.944330   \n",
       "9      41.434730       5.930160       8.973958      -5.152748      -3.119601   \n",
       "\n",
       "   mfcc_feature9  ...  mfcc_feature34  mfcc_feature35  mfcc_feature36  \\\n",
       "0      -1.047442  ...       -0.025053       -0.021559       -0.014921   \n",
       "1       0.352627  ...        0.020604        0.006262       -0.013555   \n",
       "2       0.919167  ...       -0.003895       -0.001905       -0.012755   \n",
       "3       2.959834  ...       -0.001163       -0.004468       -0.005017   \n",
       "4       0.420204  ...       -0.001237        0.017196        0.015745   \n",
       "5      -1.691102  ...        0.001675        0.001273        0.002474   \n",
       "6      -2.606873  ...        0.001338        0.007670        0.002044   \n",
       "7       2.139126  ...       -0.002370       -0.000991       -0.010611   \n",
       "8      -0.956235  ...       -0.020397       -0.015603       -0.010603   \n",
       "9      -1.307506  ...       -0.002584        0.008839       -0.007553   \n",
       "\n",
       "   mfcc_feature37  mfcc_feature38  mfcc_feature39   MeanRMS   MeanZCR  \\\n",
       "0       -0.020318       -0.024983       -0.006847  0.016590  0.091200   \n",
       "1       -0.008639       -0.011821        0.003830  0.017908  0.124919   \n",
       "2       -0.004770       -0.000305        0.013672  0.020544  0.077840   \n",
       "3        0.002327       -0.000646        0.000129  0.019035  0.100713   \n",
       "4        0.000190       -0.009750        0.003944  0.017176  0.090676   \n",
       "5        0.008833        0.000116       -0.001845  0.020141  0.104348   \n",
       "6        0.001143       -0.006781       -0.008694  0.021101  0.083437   \n",
       "7       -0.014083       -0.011373        0.000653  0.019141  0.080919   \n",
       "8       -0.000347       -0.008924        0.004940  0.018455  0.093311   \n",
       "9       -0.000823        0.004018       -0.005649  0.024441  0.087714   \n",
       "\n",
       "   MeanSpectralCentroid  MeanSpectralBandwidth  \n",
       "0           1477.526239            1285.109936  \n",
       "1           1868.689684            1427.695075  \n",
       "2           1396.769670            1322.673459  \n",
       "3           1558.875741            1381.989533  \n",
       "4           1513.490433            1380.374358  \n",
       "5           1592.569822            1468.954597  \n",
       "6           1493.441258            1430.868262  \n",
       "7           1378.013182            1378.983510  \n",
       "8           1556.366723            1455.661085  \n",
       "9           1468.671421            1401.201102  \n",
       "\n",
       "[10 rows x 44 columns]"
      ]
     },
     "execution_count": 3,
     "metadata": {},
     "output_type": "execute_result"
    }
   ],
   "source": [
    "speaker_profile"
   ]
  },
  {
   "cell_type": "code",
   "execution_count": 4,
   "id": "ecf89b63-0962-4066-a912-ab14e71ef49d",
   "metadata": {},
   "outputs": [],
   "source": [
    "X = speaker_profile.drop(columns=\"file_name\").values"
   ]
  },
  {
   "cell_type": "code",
   "execution_count": 5,
   "id": "27b0f88b-c1e3-4654-9640-6960371e7c6e",
   "metadata": {},
   "outputs": [
    {
     "data": {
      "text/plain": [
       "['vr_scaler_3d.pkl']"
      ]
     },
     "execution_count": 5,
     "metadata": {},
     "output_type": "execute_result"
    }
   ],
   "source": [
    "# Standardize the features\n",
    "scaler = StandardScaler()\n",
    "X_train = scaler.fit_transform(X)\n",
    "X_train = X_train.reshape((X_train.shape[0], X_train.shape[1], 1))  # 3D input (batch_size, num_features, 1)\n",
    "joblib.dump(scaler, 'vr_scaler_3d.pkl')"
   ]
  },
  {
   "cell_type": "code",
   "execution_count": 26,
   "id": "9d9c01d6-5468-4ffc-99d2-9836636d21b7",
   "metadata": {},
   "outputs": [
    {
     "data": {
      "text/plain": [
       "43"
      ]
     },
     "execution_count": 26,
     "metadata": {},
     "output_type": "execute_result"
    }
   ],
   "source": [
    "len(X_train[2])"
   ]
  },
  {
   "cell_type": "code",
   "execution_count": 7,
   "id": "f8dffff6-3f15-4047-8a1f-f1c370ba2628",
   "metadata": {},
   "outputs": [],
   "source": [
    "y_train = np.ones((X_train.shape[0],))  # Labels for the subject's voice"
   ]
  },
  {
   "cell_type": "code",
   "execution_count": 8,
   "id": "98f64c3d-7d7c-4faf-b83b-22f03f5b47cb",
   "metadata": {},
   "outputs": [
    {
     "data": {
      "text/plain": [
       "array([1., 1., 1., 1., 1., 1., 1., 1., 1., 1.])"
      ]
     },
     "execution_count": 8,
     "metadata": {},
     "output_type": "execute_result"
    }
   ],
   "source": [
    "y_train"
   ]
  },
  {
   "cell_type": "code",
   "execution_count": 33,
   "id": "3b5eda0b-e366-4219-91a0-86111a931632",
   "metadata": {},
   "outputs": [
    {
     "data": {
      "text/plain": [
       "43"
      ]
     },
     "execution_count": 33,
     "metadata": {},
     "output_type": "execute_result"
    }
   ],
   "source": [
    "X_train.shape[1]"
   ]
  },
  {
   "cell_type": "code",
   "execution_count": 42,
   "id": "f54abae4-4c32-4156-9f43-f0c7c4a43199",
   "metadata": {},
   "outputs": [
    {
     "data": {
      "text/html": [
       "<pre style=\"white-space:pre;overflow-x:auto;line-height:normal;font-family:Menlo,'DejaVu Sans Mono',consolas,'Courier New',monospace\"><span style=\"font-weight: bold\">Model: \"sequential_7\"</span>\n",
       "</pre>\n"
      ],
      "text/plain": [
       "\u001b[1mModel: \"sequential_7\"\u001b[0m\n"
      ]
     },
     "metadata": {},
     "output_type": "display_data"
    },
    {
     "data": {
      "text/html": [
       "<pre style=\"white-space:pre;overflow-x:auto;line-height:normal;font-family:Menlo,'DejaVu Sans Mono',consolas,'Courier New',monospace\">┏━━━━━━━━━━━━━━━━━━━━━━━━━━━━━━━━━━━━━━┳━━━━━━━━━━━━━━━━━━━━━━━━━━━━━┳━━━━━━━━━━━━━━━━━┓\n",
       "┃<span style=\"font-weight: bold\"> Layer (type)                         </span>┃<span style=\"font-weight: bold\"> Output Shape                </span>┃<span style=\"font-weight: bold\">         Param # </span>┃\n",
       "┡━━━━━━━━━━━━━━━━━━━━━━━━━━━━━━━━━━━━━━╇━━━━━━━━━━━━━━━━━━━━━━━━━━━━━╇━━━━━━━━━━━━━━━━━┩\n",
       "│ conv2d_14 (<span style=\"color: #0087ff; text-decoration-color: #0087ff\">Conv2D</span>)                   │ (<span style=\"color: #00d7ff; text-decoration-color: #00d7ff\">None</span>, <span style=\"color: #00af00; text-decoration-color: #00af00\">43</span>, <span style=\"color: #00af00; text-decoration-color: #00af00\">1</span>, <span style=\"color: #00af00; text-decoration-color: #00af00\">16</span>)           │              <span style=\"color: #00af00; text-decoration-color: #00af00\">80</span> │\n",
       "├──────────────────────────────────────┼─────────────────────────────┼─────────────────┤\n",
       "│ max_pooling2d_14 (<span style=\"color: #0087ff; text-decoration-color: #0087ff\">MaxPooling2D</span>)      │ (<span style=\"color: #00d7ff; text-decoration-color: #00d7ff\">None</span>, <span style=\"color: #00af00; text-decoration-color: #00af00\">21</span>, <span style=\"color: #00af00; text-decoration-color: #00af00\">1</span>, <span style=\"color: #00af00; text-decoration-color: #00af00\">16</span>)           │               <span style=\"color: #00af00; text-decoration-color: #00af00\">0</span> │\n",
       "├──────────────────────────────────────┼─────────────────────────────┼─────────────────┤\n",
       "│ conv2d_15 (<span style=\"color: #0087ff; text-decoration-color: #0087ff\">Conv2D</span>)                   │ (<span style=\"color: #00d7ff; text-decoration-color: #00d7ff\">None</span>, <span style=\"color: #00af00; text-decoration-color: #00af00\">21</span>, <span style=\"color: #00af00; text-decoration-color: #00af00\">1</span>, <span style=\"color: #00af00; text-decoration-color: #00af00\">32</span>)           │           <span style=\"color: #00af00; text-decoration-color: #00af00\">2,080</span> │\n",
       "├──────────────────────────────────────┼─────────────────────────────┼─────────────────┤\n",
       "│ max_pooling2d_15 (<span style=\"color: #0087ff; text-decoration-color: #0087ff\">MaxPooling2D</span>)      │ (<span style=\"color: #00d7ff; text-decoration-color: #00d7ff\">None</span>, <span style=\"color: #00af00; text-decoration-color: #00af00\">10</span>, <span style=\"color: #00af00; text-decoration-color: #00af00\">1</span>, <span style=\"color: #00af00; text-decoration-color: #00af00\">32</span>)           │               <span style=\"color: #00af00; text-decoration-color: #00af00\">0</span> │\n",
       "├──────────────────────────────────────┼─────────────────────────────┼─────────────────┤\n",
       "│ flatten_7 (<span style=\"color: #0087ff; text-decoration-color: #0087ff\">Flatten</span>)                  │ (<span style=\"color: #00d7ff; text-decoration-color: #00d7ff\">None</span>, <span style=\"color: #00af00; text-decoration-color: #00af00\">320</span>)                 │               <span style=\"color: #00af00; text-decoration-color: #00af00\">0</span> │\n",
       "├──────────────────────────────────────┼─────────────────────────────┼─────────────────┤\n",
       "│ dense_14 (<span style=\"color: #0087ff; text-decoration-color: #0087ff\">Dense</span>)                     │ (<span style=\"color: #00d7ff; text-decoration-color: #00d7ff\">None</span>, <span style=\"color: #00af00; text-decoration-color: #00af00\">64</span>)                  │          <span style=\"color: #00af00; text-decoration-color: #00af00\">20,544</span> │\n",
       "├──────────────────────────────────────┼─────────────────────────────┼─────────────────┤\n",
       "│ dropout_7 (<span style=\"color: #0087ff; text-decoration-color: #0087ff\">Dropout</span>)                  │ (<span style=\"color: #00d7ff; text-decoration-color: #00d7ff\">None</span>, <span style=\"color: #00af00; text-decoration-color: #00af00\">64</span>)                  │               <span style=\"color: #00af00; text-decoration-color: #00af00\">0</span> │\n",
       "├──────────────────────────────────────┼─────────────────────────────┼─────────────────┤\n",
       "│ dense_15 (<span style=\"color: #0087ff; text-decoration-color: #0087ff\">Dense</span>)                     │ (<span style=\"color: #00d7ff; text-decoration-color: #00d7ff\">None</span>, <span style=\"color: #00af00; text-decoration-color: #00af00\">43</span>)                  │           <span style=\"color: #00af00; text-decoration-color: #00af00\">2,795</span> │\n",
       "└──────────────────────────────────────┴─────────────────────────────┴─────────────────┘\n",
       "</pre>\n"
      ],
      "text/plain": [
       "┏━━━━━━━━━━━━━━━━━━━━━━━━━━━━━━━━━━━━━━┳━━━━━━━━━━━━━━━━━━━━━━━━━━━━━┳━━━━━━━━━━━━━━━━━┓\n",
       "┃\u001b[1m \u001b[0m\u001b[1mLayer (type)                        \u001b[0m\u001b[1m \u001b[0m┃\u001b[1m \u001b[0m\u001b[1mOutput Shape               \u001b[0m\u001b[1m \u001b[0m┃\u001b[1m \u001b[0m\u001b[1m        Param #\u001b[0m\u001b[1m \u001b[0m┃\n",
       "┡━━━━━━━━━━━━━━━━━━━━━━━━━━━━━━━━━━━━━━╇━━━━━━━━━━━━━━━━━━━━━━━━━━━━━╇━━━━━━━━━━━━━━━━━┩\n",
       "│ conv2d_14 (\u001b[38;5;33mConv2D\u001b[0m)                   │ (\u001b[38;5;45mNone\u001b[0m, \u001b[38;5;34m43\u001b[0m, \u001b[38;5;34m1\u001b[0m, \u001b[38;5;34m16\u001b[0m)           │              \u001b[38;5;34m80\u001b[0m │\n",
       "├──────────────────────────────────────┼─────────────────────────────┼─────────────────┤\n",
       "│ max_pooling2d_14 (\u001b[38;5;33mMaxPooling2D\u001b[0m)      │ (\u001b[38;5;45mNone\u001b[0m, \u001b[38;5;34m21\u001b[0m, \u001b[38;5;34m1\u001b[0m, \u001b[38;5;34m16\u001b[0m)           │               \u001b[38;5;34m0\u001b[0m │\n",
       "├──────────────────────────────────────┼─────────────────────────────┼─────────────────┤\n",
       "│ conv2d_15 (\u001b[38;5;33mConv2D\u001b[0m)                   │ (\u001b[38;5;45mNone\u001b[0m, \u001b[38;5;34m21\u001b[0m, \u001b[38;5;34m1\u001b[0m, \u001b[38;5;34m32\u001b[0m)           │           \u001b[38;5;34m2,080\u001b[0m │\n",
       "├──────────────────────────────────────┼─────────────────────────────┼─────────────────┤\n",
       "│ max_pooling2d_15 (\u001b[38;5;33mMaxPooling2D\u001b[0m)      │ (\u001b[38;5;45mNone\u001b[0m, \u001b[38;5;34m10\u001b[0m, \u001b[38;5;34m1\u001b[0m, \u001b[38;5;34m32\u001b[0m)           │               \u001b[38;5;34m0\u001b[0m │\n",
       "├──────────────────────────────────────┼─────────────────────────────┼─────────────────┤\n",
       "│ flatten_7 (\u001b[38;5;33mFlatten\u001b[0m)                  │ (\u001b[38;5;45mNone\u001b[0m, \u001b[38;5;34m320\u001b[0m)                 │               \u001b[38;5;34m0\u001b[0m │\n",
       "├──────────────────────────────────────┼─────────────────────────────┼─────────────────┤\n",
       "│ dense_14 (\u001b[38;5;33mDense\u001b[0m)                     │ (\u001b[38;5;45mNone\u001b[0m, \u001b[38;5;34m64\u001b[0m)                  │          \u001b[38;5;34m20,544\u001b[0m │\n",
       "├──────────────────────────────────────┼─────────────────────────────┼─────────────────┤\n",
       "│ dropout_7 (\u001b[38;5;33mDropout\u001b[0m)                  │ (\u001b[38;5;45mNone\u001b[0m, \u001b[38;5;34m64\u001b[0m)                  │               \u001b[38;5;34m0\u001b[0m │\n",
       "├──────────────────────────────────────┼─────────────────────────────┼─────────────────┤\n",
       "│ dense_15 (\u001b[38;5;33mDense\u001b[0m)                     │ (\u001b[38;5;45mNone\u001b[0m, \u001b[38;5;34m43\u001b[0m)                  │           \u001b[38;5;34m2,795\u001b[0m │\n",
       "└──────────────────────────────────────┴─────────────────────────────┴─────────────────┘\n"
      ]
     },
     "metadata": {},
     "output_type": "display_data"
    },
    {
     "data": {
      "text/html": [
       "<pre style=\"white-space:pre;overflow-x:auto;line-height:normal;font-family:Menlo,'DejaVu Sans Mono',consolas,'Courier New',monospace\"><span style=\"font-weight: bold\"> Total params: </span><span style=\"color: #00af00; text-decoration-color: #00af00\">25,499</span> (99.61 KB)\n",
       "</pre>\n"
      ],
      "text/plain": [
       "\u001b[1m Total params: \u001b[0m\u001b[38;5;34m25,499\u001b[0m (99.61 KB)\n"
      ]
     },
     "metadata": {},
     "output_type": "display_data"
    },
    {
     "data": {
      "text/html": [
       "<pre style=\"white-space:pre;overflow-x:auto;line-height:normal;font-family:Menlo,'DejaVu Sans Mono',consolas,'Courier New',monospace\"><span style=\"font-weight: bold\"> Trainable params: </span><span style=\"color: #00af00; text-decoration-color: #00af00\">25,499</span> (99.61 KB)\n",
       "</pre>\n"
      ],
      "text/plain": [
       "\u001b[1m Trainable params: \u001b[0m\u001b[38;5;34m25,499\u001b[0m (99.61 KB)\n"
      ]
     },
     "metadata": {},
     "output_type": "display_data"
    },
    {
     "data": {
      "text/html": [
       "<pre style=\"white-space:pre;overflow-x:auto;line-height:normal;font-family:Menlo,'DejaVu Sans Mono',consolas,'Courier New',monospace\"><span style=\"font-weight: bold\"> Non-trainable params: </span><span style=\"color: #00af00; text-decoration-color: #00af00\">0</span> (0.00 B)\n",
       "</pre>\n"
      ],
      "text/plain": [
       "\u001b[1m Non-trainable params: \u001b[0m\u001b[38;5;34m0\u001b[0m (0.00 B)\n"
      ]
     },
     "metadata": {},
     "output_type": "display_data"
    }
   ],
   "source": [
    "from tensorflow.keras.models import Sequential\n",
    "from tensorflow.keras.layers import Conv2D, MaxPooling2D, Flatten, Dense, Dropout, Input\n",
    "\n",
    "# Get the number of features from X_train\n",
    "num_features = X_train.shape[1]  # This should be the number of features (columns) in X_train\n",
    "num_timesteps = 1  # Since we're treating it as 1D time series-like input\n",
    "\n",
    "# Build the model (with correct input/output shape matching)\n",
    "speaker_identification_model = Sequential([\n",
    "    # Convolutional Layers\n",
    "    Conv2D(16, (2, 2), activation='relu', input_shape=(num_features, 1, 1), padding='same'),\n",
    "    MaxPooling2D((2, 1)),  # Pooling Layer\n",
    "    \n",
    "    Conv2D(32, (2, 2), activation='relu', padding='same'),\n",
    "    MaxPooling2D((2, 1)),  # Pooling Layer\n",
    "    \n",
    "    # Flatten Layer: Convert the feature maps into a 1D vector\n",
    "    Flatten(),  # Ensure this flattens the data\n",
    "    \n",
    "    # Hidden Layer: Extract and transform features from the flattened vector\n",
    "    Dense(64, activation='relu'),  # The input for this layer is now a flattened 1D vector\n",
    "    Dropout(0.5),\n",
    "    \n",
    "    # Output Layer: Prediction for one-class classification (Reconstruction output)\n",
    "    Dense(num_features, activation='linear')  # Output size should match the original input size\n",
    "])\n",
    "\n",
    "# Compile the model with MSE loss\n",
    "speaker_identification_model.compile(optimizer='adam', loss='mean_squared_error', metrics=['mse'])\n",
    "\n",
    "# Display the model summary\n",
    "speaker_identification_model.summary()"
   ]
  },
  {
   "cell_type": "code",
   "execution_count": 43,
   "id": "783db081-950b-4636-8c5a-d7a0d13bcab7",
   "metadata": {
    "scrolled": true
   },
   "outputs": [
    {
     "name": "stdout",
     "output_type": "stream",
     "text": [
      "Epoch 1/20\n",
      "\u001b[1m1/1\u001b[0m \u001b[32m━━━━━━━━━━━━━━━━━━━━\u001b[0m\u001b[37m\u001b[0m \u001b[1m1s\u001b[0m 1s/step - loss: 1.1275 - mse: 1.1275 - val_loss: 0.7095 - val_mse: 0.7095\n",
      "Epoch 2/20\n",
      "\u001b[1m1/1\u001b[0m \u001b[32m━━━━━━━━━━━━━━━━━━━━\u001b[0m\u001b[37m\u001b[0m \u001b[1m0s\u001b[0m 71ms/step - loss: 1.1077 - mse: 1.1077 - val_loss: 0.7138 - val_mse: 0.7138\n",
      "Epoch 3/20\n",
      "\u001b[1m1/1\u001b[0m \u001b[32m━━━━━━━━━━━━━━━━━━━━\u001b[0m\u001b[37m\u001b[0m \u001b[1m0s\u001b[0m 69ms/step - loss: 1.0693 - mse: 1.0693 - val_loss: 0.7162 - val_mse: 0.7162\n",
      "Epoch 4/20\n",
      "\u001b[1m1/1\u001b[0m \u001b[32m━━━━━━━━━━━━━━━━━━━━\u001b[0m\u001b[37m\u001b[0m \u001b[1m0s\u001b[0m 67ms/step - loss: 1.0642 - mse: 1.0642 - val_loss: 0.7180 - val_mse: 0.7180\n",
      "Epoch 5/20\n",
      "\u001b[1m1/1\u001b[0m \u001b[32m━━━━━━━━━━━━━━━━━━━━\u001b[0m\u001b[37m\u001b[0m \u001b[1m0s\u001b[0m 93ms/step - loss: 1.0536 - mse: 1.0536 - val_loss: 0.7204 - val_mse: 0.7204\n",
      "Epoch 6/20\n",
      "\u001b[1m1/1\u001b[0m \u001b[32m━━━━━━━━━━━━━━━━━━━━\u001b[0m\u001b[37m\u001b[0m \u001b[1m0s\u001b[0m 80ms/step - loss: 1.0539 - mse: 1.0539 - val_loss: 0.7225 - val_mse: 0.7225\n",
      "Epoch 7/20\n",
      "\u001b[1m1/1\u001b[0m \u001b[32m━━━━━━━━━━━━━━━━━━━━\u001b[0m\u001b[37m\u001b[0m \u001b[1m0s\u001b[0m 72ms/step - loss: 1.0404 - mse: 1.0404 - val_loss: 0.7243 - val_mse: 0.7243\n",
      "Epoch 8/20\n",
      "\u001b[1m1/1\u001b[0m \u001b[32m━━━━━━━━━━━━━━━━━━━━\u001b[0m\u001b[37m\u001b[0m \u001b[1m0s\u001b[0m 67ms/step - loss: 1.0310 - mse: 1.0310 - val_loss: 0.7269 - val_mse: 0.7269\n",
      "Epoch 9/20\n",
      "\u001b[1m1/1\u001b[0m \u001b[32m━━━━━━━━━━━━━━━━━━━━\u001b[0m\u001b[37m\u001b[0m \u001b[1m0s\u001b[0m 68ms/step - loss: 1.0225 - mse: 1.0225 - val_loss: 0.7296 - val_mse: 0.7296\n",
      "Epoch 10/20\n",
      "\u001b[1m1/1\u001b[0m \u001b[32m━━━━━━━━━━━━━━━━━━━━\u001b[0m\u001b[37m\u001b[0m \u001b[1m0s\u001b[0m 63ms/step - loss: 1.0057 - mse: 1.0057 - val_loss: 0.7318 - val_mse: 0.7318\n",
      "Epoch 11/20\n",
      "\u001b[1m1/1\u001b[0m \u001b[32m━━━━━━━━━━━━━━━━━━━━\u001b[0m\u001b[37m\u001b[0m \u001b[1m0s\u001b[0m 70ms/step - loss: 0.9977 - mse: 0.9977 - val_loss: 0.7344 - val_mse: 0.7344\n",
      "Epoch 12/20\n",
      "\u001b[1m1/1\u001b[0m \u001b[32m━━━━━━━━━━━━━━━━━━━━\u001b[0m\u001b[37m\u001b[0m \u001b[1m0s\u001b[0m 70ms/step - loss: 1.0157 - mse: 1.0157 - val_loss: 0.7372 - val_mse: 0.7372\n",
      "Epoch 13/20\n",
      "\u001b[1m1/1\u001b[0m \u001b[32m━━━━━━━━━━━━━━━━━━━━\u001b[0m\u001b[37m\u001b[0m \u001b[1m0s\u001b[0m 65ms/step - loss: 0.9763 - mse: 0.9763 - val_loss: 0.7401 - val_mse: 0.7401\n",
      "Epoch 14/20\n",
      "\u001b[1m1/1\u001b[0m \u001b[32m━━━━━━━━━━━━━━━━━━━━\u001b[0m\u001b[37m\u001b[0m \u001b[1m0s\u001b[0m 64ms/step - loss: 1.0052 - mse: 1.0052 - val_loss: 0.7428 - val_mse: 0.7428\n",
      "Epoch 15/20\n",
      "\u001b[1m1/1\u001b[0m \u001b[32m━━━━━━━━━━━━━━━━━━━━\u001b[0m\u001b[37m\u001b[0m \u001b[1m0s\u001b[0m 68ms/step - loss: 1.0219 - mse: 1.0219 - val_loss: 0.7443 - val_mse: 0.7443\n",
      "Epoch 16/20\n",
      "\u001b[1m1/1\u001b[0m \u001b[32m━━━━━━━━━━━━━━━━━━━━\u001b[0m\u001b[37m\u001b[0m \u001b[1m0s\u001b[0m 63ms/step - loss: 0.9797 - mse: 0.9797 - val_loss: 0.7459 - val_mse: 0.7459\n",
      "Epoch 17/20\n",
      "\u001b[1m1/1\u001b[0m \u001b[32m━━━━━━━━━━━━━━━━━━━━\u001b[0m\u001b[37m\u001b[0m \u001b[1m0s\u001b[0m 65ms/step - loss: 0.9716 - mse: 0.9716 - val_loss: 0.7476 - val_mse: 0.7476\n",
      "Epoch 18/20\n",
      "\u001b[1m1/1\u001b[0m \u001b[32m━━━━━━━━━━━━━━━━━━━━\u001b[0m\u001b[37m\u001b[0m \u001b[1m0s\u001b[0m 65ms/step - loss: 0.9895 - mse: 0.9895 - val_loss: 0.7483 - val_mse: 0.7483\n",
      "Epoch 19/20\n",
      "\u001b[1m1/1\u001b[0m \u001b[32m━━━━━━━━━━━━━━━━━━━━\u001b[0m\u001b[37m\u001b[0m \u001b[1m0s\u001b[0m 66ms/step - loss: 0.9690 - mse: 0.9690 - val_loss: 0.7500 - val_mse: 0.7500\n",
      "Epoch 20/20\n",
      "\u001b[1m1/1\u001b[0m \u001b[32m━━━━━━━━━━━━━━━━━━━━\u001b[0m\u001b[37m\u001b[0m \u001b[1m0s\u001b[0m 65ms/step - loss: 0.9877 - mse: 0.9877 - val_loss: 0.7509 - val_mse: 0.7509\n"
     ]
    }
   ],
   "source": [
    "history = speaker_identification_model.fit(X_train, X_train, epochs=20, batch_size=16, validation_split=0.2)"
   ]
  },
  {
   "cell_type": "code",
   "execution_count": 141,
   "id": "c0b36efc-5da9-45b9-83dc-e8ff8a4a07d6",
   "metadata": {},
   "outputs": [],
   "source": [
    "# TEST for mean\n",
    "\n",
    "# single_mfcc = pd.read_csv('result\\\\voice_recognition\\\\test_mean\\\\vr_same_mean_test1.csv') #same\n",
    "# single_mfcc = pd.read_csv('result\\\\voice_recognition\\\\test_mean\\\\vr_same_mean_test2.csv') # same\n",
    "# single_mfcc = pd.read_csv('result\\\\voice_recognition\\\\test_mean\\\\vr_same_mean_test3.csv') # same\n",
    "# single_mfcc = pd.read_csv('result\\\\voice_recognition\\\\test_mean\\\\vr_same_mean_test4.csv') #same\n",
    "# single_mfcc = pd.read_csv('result\\\\voice_recognition\\\\test_mean\\\\vr_notsame_mean_test1.csv') #not same\n",
    "# single_mfcc = pd.read_csv('result\\\\voice_recognition\\\\test_mean\\\\vr_notsame_mean_test2.csv') #not same\n",
    "single_mfcc = pd.read_csv('result\\\\voice_recognition\\\\test_mean\\\\vr_notsame_mean_test3.csv') #not same\n",
    "\n",
    "scaler = joblib.load('vr_scaler_3d.pkl')\n",
    "\n",
    "# Drop unnecessary columns and scale the data\n",
    "single_mfcc = single_mfcc.drop(columns=['file_name']).values\n",
    "single_scaled = scaler.transform(single_mfcc)\n",
    "\n",
    "# Reshape the input to match the CNN model's expected input shape\n",
    "single_scaled = single_scaled.reshape(1, num_features, 1, 1)  # Reshaping for 2D Conv"
   ]
  },
  {
   "cell_type": "code",
   "execution_count": 142,
   "id": "12bff908-9ee7-4547-a38b-93e1b360820f",
   "metadata": {},
   "outputs": [
    {
     "data": {
      "text/plain": [
       "(43, 1, 1)"
      ]
     },
     "execution_count": 142,
     "metadata": {},
     "output_type": "execute_result"
    }
   ],
   "source": [
    "single_reshaped.shape\n",
    "# num_features"
   ]
  },
  {
   "cell_type": "code",
   "execution_count": 144,
   "id": "5f863782-de57-4c60-81d1-a64595249fc5",
   "metadata": {},
   "outputs": [
    {
     "name": "stdout",
     "output_type": "stream",
     "text": [
      "\u001b[1m1/1\u001b[0m \u001b[32m━━━━━━━━━━━━━━━━━━━━\u001b[0m\u001b[37m\u001b[0m \u001b[1m0s\u001b[0m 26ms/step\n",
      "Original:  [10.87898738  2.30260492  2.86354979 -1.22479159  0.91535231 -1.56832391\n",
      "  0.94661564  1.25958983 -7.20149438  0.81015573  1.73117024 -0.63735724\n",
      " -0.05795852  4.52047171  6.35277673  1.85826675  2.32195163  2.53121506\n",
      "  0.31991199  3.0939646   1.79277585  0.40175141  1.65094881  1.40815947\n",
      "  1.60478461  0.75197829  2.49634183  0.86031686 -0.87130821 -0.02809237\n",
      "  0.74873298 -0.20484016  0.7277862   0.3541109   0.0260901   0.16836244\n",
      " -0.50031591  0.39456864  0.31966797 23.04943231 -1.79572878 -0.07579233\n",
      "  7.54024039]\n",
      "Reconstructed:  [-0.03947283  0.19783603 -0.5484882   1.131783   -0.10866912  1.0071304\n",
      " -1.0489668   0.5962452   0.563318    0.93049717 -0.18138239  0.68299115\n",
      " -0.22916996  0.33512396 -0.38483953 -0.3957238   0.11352189 -0.23994207\n",
      " -0.6672748   0.24087223 -0.20845832 -0.16319744 -0.02244191  0.29863748\n",
      " -1.2520156   0.55102885 -0.12849136  0.01401274 -0.0921421   0.6553756\n",
      "  1.2900505   0.52159894  0.04612526  0.7874846   0.12411815 -0.24356964\n",
      " -0.6128      0.07388643  0.61863375 -0.4244684   0.5316899  -0.32132316\n",
      " -0.38574073]\n"
     ]
    },
    {
     "ename": "ValueError",
     "evalue": "Exception encountered when calling Sequential.call().\n\n\u001b[1mCannot take the length of shape with unknown rank.\u001b[0m\n\nArguments received by Sequential.call():\n  • inputs=tf.Tensor(shape=<unknown>, dtype=float32)\n  • training=False\n  • mask=None",
     "output_type": "error",
     "traceback": [
      "\u001b[1;31m---------------------------------------------------------------------------\u001b[0m",
      "\u001b[1;31mValueError\u001b[0m                                Traceback (most recent call last)",
      "Cell \u001b[1;32mIn[144], line 12\u001b[0m\n\u001b[0;32m      9\u001b[0m reconstruction_error \u001b[38;5;241m=\u001b[39m np\u001b[38;5;241m.\u001b[39mmean(np\u001b[38;5;241m.\u001b[39mabs(single_mfcc\u001b[38;5;241m.\u001b[39mflatten() \u001b[38;5;241m-\u001b[39m reconstructed_audio_flat))\n\u001b[0;32m     11\u001b[0m \u001b[38;5;66;03m# Calculate reconstruction error for the training data\u001b[39;00m\n\u001b[1;32m---> 12\u001b[0m training_reconstruction_errors \u001b[38;5;241m=\u001b[39m np\u001b[38;5;241m.\u001b[39mmean(np\u001b[38;5;241m.\u001b[39mabs(X_train \u001b[38;5;241m-\u001b[39m \u001b[43mspeaker_identification_model\u001b[49m\u001b[38;5;241;43m.\u001b[39;49m\u001b[43mpredict\u001b[49m\u001b[43m(\u001b[49m\u001b[43mX_train\u001b[49m\u001b[43m)\u001b[49m), axis\u001b[38;5;241m=\u001b[39m\u001b[38;5;241m1\u001b[39m)\n\u001b[0;32m     13\u001b[0m \u001b[38;5;28mprint\u001b[39m(\u001b[38;5;124m\"\u001b[39m\u001b[38;5;124mReconstruction errors for training data: \u001b[39m\u001b[38;5;124m\"\u001b[39m, training_reconstruction_errors)\n\u001b[0;32m     15\u001b[0m \u001b[38;5;66;03m# Set the threshold as mean + 1 or 2 standard deviations (fine-tune this)\u001b[39;00m\n",
      "File \u001b[1;32m~\\Desktop\\AudioClassificationFeatures\\env\\Lib\\site-packages\\keras\\src\\utils\\traceback_utils.py:122\u001b[0m, in \u001b[0;36mfilter_traceback.<locals>.error_handler\u001b[1;34m(*args, **kwargs)\u001b[0m\n\u001b[0;32m    119\u001b[0m     filtered_tb \u001b[38;5;241m=\u001b[39m _process_traceback_frames(e\u001b[38;5;241m.\u001b[39m__traceback__)\n\u001b[0;32m    120\u001b[0m     \u001b[38;5;66;03m# To get the full stack trace, call:\u001b[39;00m\n\u001b[0;32m    121\u001b[0m     \u001b[38;5;66;03m# `keras.config.disable_traceback_filtering()`\u001b[39;00m\n\u001b[1;32m--> 122\u001b[0m     \u001b[38;5;28;01mraise\u001b[39;00m e\u001b[38;5;241m.\u001b[39mwith_traceback(filtered_tb) \u001b[38;5;28;01mfrom\u001b[39;00m \u001b[38;5;28;01mNone\u001b[39;00m\n\u001b[0;32m    123\u001b[0m \u001b[38;5;28;01mfinally\u001b[39;00m:\n\u001b[0;32m    124\u001b[0m     \u001b[38;5;28;01mdel\u001b[39;00m filtered_tb\n",
      "File \u001b[1;32m~\\Desktop\\AudioClassificationFeatures\\env\\Lib\\site-packages\\keras\\src\\utils\\traceback_utils.py:122\u001b[0m, in \u001b[0;36mfilter_traceback.<locals>.error_handler\u001b[1;34m(*args, **kwargs)\u001b[0m\n\u001b[0;32m    119\u001b[0m     filtered_tb \u001b[38;5;241m=\u001b[39m _process_traceback_frames(e\u001b[38;5;241m.\u001b[39m__traceback__)\n\u001b[0;32m    120\u001b[0m     \u001b[38;5;66;03m# To get the full stack trace, call:\u001b[39;00m\n\u001b[0;32m    121\u001b[0m     \u001b[38;5;66;03m# `keras.config.disable_traceback_filtering()`\u001b[39;00m\n\u001b[1;32m--> 122\u001b[0m     \u001b[38;5;28;01mraise\u001b[39;00m e\u001b[38;5;241m.\u001b[39mwith_traceback(filtered_tb) \u001b[38;5;28;01mfrom\u001b[39;00m \u001b[38;5;28;01mNone\u001b[39;00m\n\u001b[0;32m    123\u001b[0m \u001b[38;5;28;01mfinally\u001b[39;00m:\n\u001b[0;32m    124\u001b[0m     \u001b[38;5;28;01mdel\u001b[39;00m filtered_tb\n",
      "\u001b[1;31mValueError\u001b[0m: Exception encountered when calling Sequential.call().\n\n\u001b[1mCannot take the length of shape with unknown rank.\u001b[0m\n\nArguments received by Sequential.call():\n  • inputs=tf.Tensor(shape=<unknown>, dtype=float32)\n  • training=False\n  • mask=None"
     ]
    }
   ],
   "source": [
    "# Get the reconstructed audio features from the model\n",
    "reconstructed_audio = speaker_identification_model.predict(single_scaled)\n",
    "print(\"Original: \", single_scaled.flatten())\n",
    "print(\"Reconstructed: \", reconstructed_audio.flatten())\n",
    "# Reshape the predicted output to match the original input format for comparison\n",
    "reconstructed_audio_flat = reconstructed_audio.reshape(num_features)\n",
    "\n",
    "# Calculate the reconstruction error (mean absolute error or mean squared error)\n",
    "reconstruction_error = np.mean(np.abs(single_mfcc.flatten() - reconstructed_audio_flat))\n",
    "\n",
    "# Calculate reconstruction error for the training data\n",
    "training_reconstruction_errors = np.mean(np.abs(X_train - speaker_identification_model.predict(X_train)), axis=1)\n",
    "print(\"Reconstruction errors for training data: \", training_reconstruction_errors)\n",
    "\n",
    "# Set the threshold as mean + 1 or 2 standard deviations (fine-tune this)\n",
    "threshold = np.mean(training_reconstruction_errors) + np.std(training_reconstruction_errors)"
   ]
  },
  {
   "cell_type": "code",
   "execution_count": 140,
   "id": "b1cb0b48-6fdc-42ad-ba6e-f96435b18768",
   "metadata": {},
   "outputs": [
    {
     "name": "stdout",
     "output_type": "stream",
     "text": [
      "89.7102369375567\n",
      "Different Speaker Detected\n"
     ]
    }
   ],
   "source": [
    "# Classify whether the test audio belongs to the speaker or not based on the error\n",
    "print(reconstruction_error)\n",
    "if reconstruction_error < threshold:\n",
    "    print(\"Speaker Identified (Same speaker)\")\n",
    "else:\n",
    "    print(\"Different Speaker Detected\")"
   ]
  },
  {
   "cell_type": "code",
   "execution_count": null,
   "id": "2fd63552-875d-427e-9e43-4118ca09a588",
   "metadata": {},
   "outputs": [],
   "source": []
  },
  {
   "cell_type": "code",
   "execution_count": null,
   "id": "4e9a2082-8334-4de1-a1a3-3ba965417da0",
   "metadata": {},
   "outputs": [],
   "source": []
  }
 ],
 "metadata": {
  "kernelspec": {
   "display_name": "Python (venvAudio)",
   "language": "python",
   "name": "pythonaudio"
  },
  "language_info": {
   "codemirror_mode": {
    "name": "ipython",
    "version": 3
   },
   "file_extension": ".py",
   "mimetype": "text/x-python",
   "name": "python",
   "nbconvert_exporter": "python",
   "pygments_lexer": "ipython3",
   "version": "3.11.2"
  }
 },
 "nbformat": 4,
 "nbformat_minor": 5
}
